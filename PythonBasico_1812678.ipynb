{
 "cells": [
  {
   "cell_type": "markdown",
   "metadata": {},
   "source": [
    "### Ejercicio 1: \n",
    "\n",
    "Realiza una variable con tu matricula y realiza una secuencia de imprimir con tu nombre y tu matricula concatenados."
   ]
  },
  {
   "cell_type": "code",
   "execution_count": 1,
   "metadata": {},
   "outputs": [
    {
     "name": "stdout",
     "output_type": "stream",
     "text": [
      "Nombre: Gilberto Noé López Ávila\n",
      "Matrícula: 1812678\n"
     ]
    }
   ],
   "source": [
    "mat = 1812678\n",
    "line = \"Nombre: Gilberto Noé López Ávila\\nMatrícula: %d\" %mat\n",
    "print(line)"
   ]
  },
  {
   "cell_type": "markdown",
   "metadata": {},
   "source": [
    "### Ejercicio 2:\n",
    "\n",
    "Pidiendo el input del usuario pide dos números y crea una pequeña calculadora con los operadores básicos de suma, resta, multiplicación, división, y exponente."
   ]
  },
  {
   "cell_type": "code",
   "execution_count": 2,
   "metadata": {},
   "outputs": [
    {
     "name": "stdout",
     "output_type": "stream",
     "text": [
      "Introduce el primer número: 54\n",
      "Introduce el segundo número: 87\n",
      "Selecciona una operación:\n",
      "1. Suma\n",
      "2. Resta\n",
      "3. Multiplicación\n",
      "4. División\n",
      "5. Exponente\n",
      ": 3\n",
      "54.0  *  87.0  =  4698.0\n"
     ]
    }
   ],
   "source": [
    "#Ciclo while True termina hasta que se indique break\n",
    "while True:\n",
    "    try:\n",
    "        a = float(input(\"Introduce el primer número: \" ))\n",
    "    except:\n",
    "        print(\"Intenta de nuevo\")\n",
    "        continue\n",
    "    break\n",
    "while True:\n",
    "    try:\n",
    "        b = float(input(\"Introduce el segundo número: \"))\n",
    "    except:\n",
    "        print(\"Intenta de nuevo\")\n",
    "        continue\n",
    "    break\n",
    "print(\"Selecciona una operación:\\n1. Suma\\n2. Resta\\n3. Multiplicación\\n4. División\\n5. Exponente\")\n",
    "while True:\n",
    "    try:\n",
    "        n = int(input(\": \"))\n",
    "        if n == 1:\n",
    "            print(a,\" + \",b,\" = \",a+b)\n",
    "        elif n == 2:\n",
    "            print(a,\" - \",b,\" = \",a-b)\n",
    "        elif n == 3:\n",
    "            print(a,\" * \",b,\" = \",a*b)\n",
    "        elif n == 4:\n",
    "            try:\n",
    "                print(a,\" / \",b,\" = \",a/b)\n",
    "            except:\n",
    "                print(\"Intenta de nuevo\")\n",
    "                continue\n",
    "        elif n == 5:\n",
    "            print(a,\" ^ \",b,\" = \",a**b)\n",
    "        else:\n",
    "            print(\"Intenta de nuevo\")\n",
    "            continue\n",
    "    except:\n",
    "        print(\"Intenta de nuevo\")\n",
    "        continue\n",
    "    break"
   ]
  },
  {
   "cell_type": "markdown",
   "metadata": {},
   "source": [
    "### Ejercicio 3: \n",
    "\n",
    "Con loop while o for, realiza una lista de 10 numeros multiplos de 3, y después realiza una función de loop que sume todos los números dentro del arreglo."
   ]
  },
  {
   "cell_type": "code",
   "execution_count": 3,
   "metadata": {},
   "outputs": [
    {
     "name": "stdout",
     "output_type": "stream",
     "text": [
      "Arreglo:  [3, 6, 9, 12, 15, 18, 21, 24, 27, 30] \n",
      "Suma:  165\n"
     ]
    }
   ],
   "source": [
    "def Suma(array):\n",
    "    s = 0\n",
    "    for i in range(len(array)):\n",
    "        s = s + array[i]\n",
    "    return s\n",
    "\n",
    "arreglo = []\n",
    "for i in range(1,11):\n",
    "    arreglo.append(i*3)\n",
    "\n",
    "print(\"Arreglo: \",arreglo,\"\\nSuma: \",Suma(arreglo))"
   ]
  },
  {
   "cell_type": "markdown",
   "metadata": {},
   "source": [
    "### Ejercicio 4\n",
    "\n",
    "- Con una función de if else, revisar si un número es par o es impar.\n",
    "- Con una función de if else, revisar si un número es primo o no."
   ]
  },
  {
   "cell_type": "code",
   "execution_count": 4,
   "metadata": {},
   "outputs": [
    {
     "name": "stdout",
     "output_type": "stream",
     "text": [
      "Introduce un número: 99\n",
      "99  es un número impar\n"
     ]
    }
   ],
   "source": [
    "while True:\n",
    "    try:\n",
    "        a = int(input(\"Introduce un número: \" ))\n",
    "    except:\n",
    "        print(\"Intenta de nuevo\")\n",
    "        continue\n",
    "    break\n",
    "if a % 2 == 0:\n",
    "    print(a,\" es un número par\")\n",
    "else:\n",
    "    print(a,\" es un número impar\")"
   ]
  },
  {
   "cell_type": "code",
   "execution_count": 5,
   "metadata": {},
   "outputs": [
    {
     "name": "stdout",
     "output_type": "stream",
     "text": [
      "Introduce un número natural: 101\n",
      "101  es un número primo\n"
     ]
    }
   ],
   "source": [
    "import math as m\n",
    "while True:\n",
    "    try:\n",
    "        a = int(input(\"Introduce un número natural: \" ))\n",
    "    except:\n",
    "        print(\"Intenta de nuevo\")\n",
    "        continue\n",
    "    if a <= 0:\n",
    "        print(\"Intenta de nuevo\")\n",
    "        continue\n",
    "    break\n",
    "if a == 1:\n",
    "    print(a,\" no es un número primo\")\n",
    "elif a == 2:\n",
    "    print(a,\" es un número primo\")\n",
    "else:\n",
    "    lim = m.ceil(m.sqrt(a))\n",
    "    prime = True\n",
    "    for i in range(2,lim+1):\n",
    "        if a % i == 0:\n",
    "            print(a,\" no es un número primo\")\n",
    "            prime = False\n",
    "            break\n",
    "    if prime:\n",
    "        print(a,\" es un número primo\")"
   ]
  },
  {
   "cell_type": "markdown",
   "metadata": {},
   "source": [
    "### Ejercicio 5\n",
    "\n",
    "Utilizando diferentes clases en python, crea una calculadora con los operadores  básicos de suma, resta, multiplicación, división, y exponente."
   ]
  },
  {
   "cell_type": "code",
   "execution_count": 6,
   "metadata": {},
   "outputs": [
    {
     "name": "stdout",
     "output_type": "stream",
     "text": [
      "Primer número\n",
      ": 5\n",
      "Segundo número\n",
      ": 4\n",
      "Selecciona una operación:\n",
      "1. Suma\n",
      "2. Resta\n",
      "3. Multiplicación\n",
      "4. División\n",
      "5. Exponente\n",
      ": 5\n",
      "5.0  ^  4.0  =  625.0\n"
     ]
    }
   ],
   "source": [
    "#Clase de funciones de calculadora\n",
    "class Calculadora:\n",
    "    def Suma(a,b):\n",
    "        print(a,\" + \",b,\" = \",a+b)\n",
    "    def Resta(a,b):\n",
    "        print(a,\" - \",b,\" = \",a-b)\n",
    "    def Mult(a,b):\n",
    "        print(a,\" * \",b,\" = \",a*b)\n",
    "    def Div(a,b):\n",
    "        print(a,\" / \",b,\" = \",a/b)\n",
    "    def Exp(a,b):\n",
    "        print(a,\" ^ \",b,\" = \",a**b)\n",
    "\n",
    "#Clase de funciones de validación\n",
    "class V:\n",
    "    def Error():\n",
    "        return print(\"Intenta de nuevo\")\n",
    "    def Check():\n",
    "        while True:\n",
    "            try:\n",
    "                a = float(input(\": \" ))\n",
    "            except:\n",
    "                V.Error()\n",
    "                continue\n",
    "            break\n",
    "        return a\n",
    "\n",
    "print(\"Primer número\")\n",
    "a = V.Check()\n",
    "print(\"Segundo número\")\n",
    "b = V.Check()\n",
    "print(\"Selecciona una operación:\\n1. Suma\\n2. Resta\\n3. Multiplicación\\n4. División\\n5. Exponente\")\n",
    "x = True\n",
    "while x:\n",
    "    x = False\n",
    "    n = V.Check()\n",
    "    if n == 1:\n",
    "        Calculadora.Suma(a,b)\n",
    "    elif n == 2:\n",
    "        Calculadora.Resta(a,b)\n",
    "    elif n == 3:\n",
    "        Calculadora.Mult(a,b)\n",
    "    elif n == 4:\n",
    "        try:\n",
    "            Calculadora.Div(a,b)\n",
    "        except:\n",
    "            x = True\n",
    "            V.Error()\n",
    "    elif n == 5:\n",
    "        Calculadora.Exp(a,b)\n",
    "    else:\n",
    "        x = True\n",
    "        V.Error()"
   ]
  },
  {
   "cell_type": "markdown",
   "metadata": {},
   "source": [
    "#### Tuplas\n",
    "\n",
    "- Crear una variable flotante, integer, boleana y compleja e imprimir el tipo de variable que es.\n",
    "\n",
    "- Crear una tupla con valores enteros imprimir el primer y ultimo valor.\n",
    "\n",
    "- Añadir 3 valores de string a la tupla.\n",
    "\n",
    "- Verificar si una variable existe dentro de la tupla."
   ]
  },
  {
   "cell_type": "code",
   "execution_count": 7,
   "metadata": {},
   "outputs": [
    {
     "name": "stdout",
     "output_type": "stream",
     "text": [
      "<class 'float'> <class 'int'> <class 'bool'> <class 'complex'>\n"
     ]
    }
   ],
   "source": [
    "flotante = 3.14\n",
    "entera = 10\n",
    "boleana = True\n",
    "compleja = 1+2j\n",
    "print(type(flotante),type(entera),type(boleana),type(compleja))"
   ]
  },
  {
   "cell_type": "code",
   "execution_count": 8,
   "metadata": {},
   "outputs": [
    {
     "name": "stdout",
     "output_type": "stream",
     "text": [
      "Primer valor:  1 \n",
      "Último valor:  5\n"
     ]
    }
   ],
   "source": [
    "tupla = (1,2,3,4,5)\n",
    "print(\"Primer valor: \",tupla[0],\"\\nÚltimo valor: \",tupla[len(tupla)-1])"
   ]
  },
  {
   "cell_type": "code",
   "execution_count": 9,
   "metadata": {},
   "outputs": [
    {
     "name": "stdout",
     "output_type": "stream",
     "text": [
      "(1, 2, 3, 4, 5, 'a', 'b', 'c')\n"
     ]
    }
   ],
   "source": [
    "tupla = tupla.__add__((\"a\",\"b\",\"c\"))\n",
    "print(tupla)"
   ]
  },
  {
   "cell_type": "code",
   "execution_count": 10,
   "metadata": {},
   "outputs": [
    {
     "name": "stdout",
     "output_type": "stream",
     "text": [
      "'a' en tupla:  True \n",
      " 10 en tupla:  False\n"
     ]
    }
   ],
   "source": [
    "print(\"'a' en tupla: \",\"a\" in tupla,\"\\n 10 en tupla: \",10 in tupla)"
   ]
  },
  {
   "cell_type": "markdown",
   "metadata": {},
   "source": [
    "#### Listas\n",
    "\n",
    "- Crear una lista con 40 elementos aleatorios enteros.\n",
    "\n",
    "- Con una funcion (def) crear dos listas nuevas a partir de la lista creada por numeros aleatorios, en la cual en una esten los elementos pares, y en la otra los elementos impares.\n",
    "\n",
    "- Crear dos variables con la longitud de ambas listas nuevas e imprimir las variables.\n",
    "\n",
    "- Ordenar los elementos de la lista par de mayor a menor, y los de la lista impar de menor a mayor.\n",
    "\n",
    "- Utilizar al menos cuatro de las funciones de listas en python en la lista original de 40 elementos."
   ]
  },
  {
   "cell_type": "code",
   "execution_count": 11,
   "metadata": {},
   "outputs": [
    {
     "name": "stdout",
     "output_type": "stream",
     "text": [
      "[10, 46, 23, 8, 31, 100, 28, 88, 24, 41, 28, 3, 42, 91, 32, 46, 80, 33, 30, 50, 22, 61, 58, 71, 62, 19, 67, 24, 46, 29, 36, 16, 3, 66, 92, 24, 4, 72, 5, 77]\n"
     ]
    }
   ],
   "source": [
    "import random as r\n",
    "rand = []\n",
    "for i in range(40):\n",
    "    rand.append(r.randint(1,100))\n",
    "print(rand)"
   ]
  },
  {
   "cell_type": "code",
   "execution_count": 12,
   "metadata": {},
   "outputs": [
    {
     "name": "stdout",
     "output_type": "stream",
     "text": [
      "Pares:  [10, 46, 8, 100, 28, 88, 24, 28, 42, 32, 46, 80, 30, 50, 22, 58, 62, 24, 46, 36, 16, 66, 92, 24, 4, 72] \n",
      "Impares [23, 31, 41, 3, 91, 33, 61, 71, 19, 67, 29, 3, 5, 77]\n"
     ]
    }
   ],
   "source": [
    "def Even(x):\n",
    "    if x % 2 == 0:\n",
    "        return True\n",
    "    else:\n",
    "        return False\n",
    "\n",
    "pares = []\n",
    "for x in rand:\n",
    "    if Even(x):\n",
    "        pares.append(x)\n",
    "impares = []\n",
    "for x in rand:\n",
    "    if not Even(x):\n",
    "        impares.append(x)\n",
    "print(\"Pares: \",pares,\"\\nImpares\",impares)"
   ]
  },
  {
   "cell_type": "code",
   "execution_count": 13,
   "metadata": {},
   "outputs": [
    {
     "name": "stdout",
     "output_type": "stream",
     "text": [
      "No. de pares:  26 \n",
      "No. de impares:  14\n"
     ]
    }
   ],
   "source": [
    "a = len(pares)\n",
    "b = len(impares)\n",
    "print(\"No. de pares: \",a,\"\\nNo. de impares: \",b)"
   ]
  },
  {
   "cell_type": "code",
   "execution_count": 14,
   "metadata": {},
   "outputs": [
    {
     "name": "stdout",
     "output_type": "stream",
     "text": [
      "Pares:  [100, 92, 88, 80, 72, 66, 62, 58, 50, 46, 46, 46, 42, 36, 32, 30, 28, 28, 24, 24, 24, 22, 16, 10, 8, 4] \n",
      "Impares:  [3, 3, 5, 19, 23, 29, 31, 33, 41, 61, 67, 71, 77, 91]\n"
     ]
    }
   ],
   "source": [
    "pares.sort()\n",
    "pares.reverse()\n",
    "impares.sort()\n",
    "print(\"Pares: \",pares,\"\\nImpares: \",impares)"
   ]
  },
  {
   "cell_type": "code",
   "execution_count": 15,
   "metadata": {},
   "outputs": [
    {
     "name": "stdout",
     "output_type": "stream",
     "text": [
      "Extend:  [10, 46, 23, 8, 31, 100, 28, 88, 24, 41, 28, 3, 42, 91, 32, 46, 80, 33, 30, 50, 22, 61, 58, 71, 62, 19, 67, 24, 46, 29, 36, 16, 3, 66, 92, 24, 4, 72, 5, 77, 1, 2, 3, 4, 5]\n",
      "\n",
      "Pop:  [10, 46, 23, 8, 31, 100, 28, 88, 24, 41, 28, 3, 42, 91, 32, 46, 80, 33, 30, 50, 22, 61, 58, 71, 62, 19, 67, 24, 46, 29, 36, 16, 3, 66, 92, 24, 4, 72, 5, 77, 1, 2, 3, 4]\n",
      "\n",
      "Insert:  [10, 46, 23, 8, 31, 100, 28, 88, 24, 41, 28, 3, 42, 91, 32, 46, 80, 33, 30, 50, 22, 61, 58, 71, 62, 19, 67, 24, 46, 29, 36, 16, 3, 66, 92, 24, 4, 72, 5, 77, 'texto', 1, 2, 3, 4]\n",
      "\n",
      "Clear:  []\n"
     ]
    }
   ],
   "source": [
    "rand.extend((1,2,3,4,5))\n",
    "print(\"Extend: \",rand)\n",
    "rand.pop()\n",
    "print(\"\\nPop: \",rand)\n",
    "rand.insert(40,\"texto\")\n",
    "print(\"\\nInsert: \",rand)\n",
    "rand.clear()\n",
    "print(\"\\nClear: \",rand)"
   ]
  },
  {
   "cell_type": "markdown",
   "metadata": {},
   "source": [
    "#### Diccionarios\n",
    "\n",
    "- Crear un diccionario de 6 personas que conozcas con su primer nombre y su edad.\n",
    "\n",
    "- Crear una lista con los valores de la edad y reacomodar la lista de menor a mayor valor.\n",
    "\n",
    "- Usando el diccionario y un loop, imprimir solo los nombres.\n",
    "\n",
    "- Añadir dos personas nuevas a tu diccionario, incluyendo edad."
   ]
  },
  {
   "cell_type": "code",
   "execution_count": 16,
   "metadata": {},
   "outputs": [
    {
     "name": "stdout",
     "output_type": "stream",
     "text": [
      "{'Cielo': 21, 'Pablo': 20, 'Abril': 19, 'Irma': 45, 'Manuel': 4, 'Adolfo': 33}\n"
     ]
    }
   ],
   "source": [
    "diccionario = {\"Cielo\": 21,\"Pablo\": 20,\"Abril\": 19,\"Irma\": 45,\"Manuel\": 4,\"Adolfo\": 33}\n",
    "print(diccionario)"
   ]
  },
  {
   "cell_type": "code",
   "execution_count": 17,
   "metadata": {},
   "outputs": [
    {
     "name": "stdout",
     "output_type": "stream",
     "text": [
      "[4, 19, 20, 21, 33, 45]\n"
     ]
    }
   ],
   "source": [
    "edades = []\n",
    "for x in diccionario.values():\n",
    "    edades.append(x)\n",
    "edades.sort()\n",
    "print(edades)"
   ]
  },
  {
   "cell_type": "code",
   "execution_count": 18,
   "metadata": {},
   "outputs": [
    {
     "name": "stdout",
     "output_type": "stream",
     "text": [
      "Cielo\n",
      "Pablo\n",
      "Abril\n",
      "Irma\n",
      "Manuel\n",
      "Adolfo\n"
     ]
    }
   ],
   "source": [
    "for name in diccionario.keys():\n",
    "    print(name)"
   ]
  },
  {
   "cell_type": "code",
   "execution_count": 19,
   "metadata": {},
   "outputs": [
    {
     "name": "stdout",
     "output_type": "stream",
     "text": [
      "{'Cielo': 21, 'Pablo': 20, 'Abril': 19, 'Irma': 45, 'Manuel': 4, 'Adolfo': 33, 'Victor': 20, 'Vanessa': 20}\n"
     ]
    }
   ],
   "source": [
    "diccionario[\"Victor\"] = 20\n",
    "diccionario[\"Vanessa\"] = 20\n",
    "print(diccionario)"
   ]
  },
  {
   "cell_type": "markdown",
   "metadata": {},
   "source": [
    "#### Sets\n",
    "\n",
    "- Crea un set con 100 numeros aleatorios enteros del 1 al 25.\n",
    "\n",
    "- Comprueba la longitud de tu set.\n",
    "\n",
    "- Crea una lista de 5 numeros aleatorios del 1 al 10 y comprueba si cada valor aparece en el set inicial."
   ]
  },
  {
   "cell_type": "code",
   "execution_count": 20,
   "metadata": {},
   "outputs": [
    {
     "name": "stdout",
     "output_type": "stream",
     "text": [
      "{1, 2, 3, 4, 5, 6, 7, 8, 9, 10, 11, 12, 13, 14, 15, 16, 17, 18, 19, 20, 21, 22, 23, 24, 25}\n"
     ]
    }
   ],
   "source": [
    "import random as r\n",
    "conjunto = {r.randint(1,25) for i in range(100)}\n",
    "print(conjunto)"
   ]
  },
  {
   "cell_type": "code",
   "execution_count": 21,
   "metadata": {},
   "outputs": [
    {
     "name": "stdout",
     "output_type": "stream",
     "text": [
      "Longitud de set:  25\n"
     ]
    }
   ],
   "source": [
    "print(\"Longitud de set: \",len(conjunto))"
   ]
  },
  {
   "cell_type": "code",
   "execution_count": 22,
   "metadata": {},
   "outputs": [
    {
     "name": "stdout",
     "output_type": "stream",
     "text": [
      "[5, 3, 4, 7, 7]\n",
      "5  en set:  True\n",
      "3  en set:  True\n",
      "4  en set:  True\n",
      "7  en set:  True\n",
      "7  en set:  True\n"
     ]
    }
   ],
   "source": [
    "muestra = [r.randint(1,10) for i in range(5)]\n",
    "print(muestra)\n",
    "for i in muestra:\n",
    "    print(i,\" en set: \",i in conjunto)"
   ]
  }
 ],
 "metadata": {
  "kernelspec": {
   "display_name": "Python 3",
   "language": "python",
   "name": "python3"
  },
  "language_info": {
   "codemirror_mode": {
    "name": "ipython",
    "version": 3
   },
   "file_extension": ".py",
   "mimetype": "text/x-python",
   "name": "python",
   "nbconvert_exporter": "python",
   "pygments_lexer": "ipython3",
   "version": "3.8.3"
  }
 },
 "nbformat": 4,
 "nbformat_minor": 4
}
