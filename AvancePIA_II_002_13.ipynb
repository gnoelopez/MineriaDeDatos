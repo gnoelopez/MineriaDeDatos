{
 "cells": [
  {
   "cell_type": "markdown",
   "metadata": {},
   "source": [
    "# Ventas de Verano 2020 de Wish"
   ]
  },
  {
   "cell_type": "markdown",
   "metadata": {},
   "source": [
    "### Título de la base de datos\n",
    "Sales of summer clothes in E-commerce Wish  \n",
    "### Descripción de los datos\n",
    "La base de datos está compuesta por tres archivos de tablas en formato CSV, de las cuales consideraremos un conjunto de columnas del archivo principal. Las siguientes columnas contienen información útil para nuestros objetivos. Estas columnas están contenidas en el archivo *summer-products-with-rating-and-performance_2020-08.csv.  \n",
    "\n",
    "Contamos con una gran variedad de datos englobados a la comercializacion de un producto de verano en la plataforma Wish entre los mas relevantes son el precio, unidades vendicas, calificacion del producto, descripcion del producto, tipo de envío, palabras claves para que el producto sea arrojado, entre otros.\n",
    "\n",
    "##### *Utilizando herramientas vistas en clase*"
   ]
  },
  {
   "cell_type": "code",
   "execution_count": 1,
   "metadata": {},
   "outputs": [],
   "source": [
    "import pandas as pd\n",
    "import matplotlib.pyplot as plt\n",
    "import seaborn as sns"
   ]
  },
  {
   "cell_type": "code",
   "execution_count": 2,
   "metadata": {},
   "outputs": [],
   "source": [
    "df=pd.read_csv(\"summer-products-with-rating-and-performance_2020-08.csv\")\n",
    "etiquetas=pd.read_csv(\"unique-categories.sorted-by-count.csv\")"
   ]
  },
  {
   "cell_type": "markdown",
   "metadata": {},
   "source": [
    "Aquí tenemos nuestros datos en donde se utilizan dos archivos. El primero \"summer-products-with-rating-and-performance_2020-08\" es donde se encuentran nuestros principales datos ya que tiene las características del producto según la página de wish en donde vienen el precio,nombre del producto, vendedor, calificación, etc.\n",
    "\n",
    "Por otro lado tenemos que en \"unique-categories.sorted-by-count.csv\" se encuentran las etiquetas con las cuales están organizados los productos de nuestra base de datos y también nos ayudarán en el proceso."
   ]
  },
  {
   "cell_type": "code",
   "execution_count": 3,
   "metadata": {},
   "outputs": [
    {
     "name": "stdout",
     "output_type": "stream",
     "text": [
      "(1573, 43)\n",
      "(2620, 2)\n"
     ]
    }
   ],
   "source": [
    "print(df.shape)\n",
    "print(etiquetas.shape)"
   ]
  },
  {
   "cell_type": "markdown",
   "metadata": {},
   "source": [
    "La base de datos de las caracteristicas tiene 1573 filas con 43 columnas y el de las etiquetas 2620 filas y 2 columnas. A continuación mostramos los primeros 5 elementos de ambas bases de datos."
   ]
  },
  {
   "cell_type": "code",
   "execution_count": 4,
   "metadata": {},
   "outputs": [
    {
     "data": {
      "text/html": [
       "<div>\n",
       "<style scoped>\n",
       "    .dataframe tbody tr th:only-of-type {\n",
       "        vertical-align: middle;\n",
       "    }\n",
       "\n",
       "    .dataframe tbody tr th {\n",
       "        vertical-align: top;\n",
       "    }\n",
       "\n",
       "    .dataframe thead th {\n",
       "        text-align: right;\n",
       "    }\n",
       "</style>\n",
       "<table border=\"1\" class=\"dataframe\">\n",
       "  <thead>\n",
       "    <tr style=\"text-align: right;\">\n",
       "      <th></th>\n",
       "      <th>title</th>\n",
       "      <th>title_orig</th>\n",
       "      <th>price</th>\n",
       "      <th>retail_price</th>\n",
       "      <th>currency_buyer</th>\n",
       "      <th>units_sold</th>\n",
       "      <th>uses_ad_boosts</th>\n",
       "      <th>rating</th>\n",
       "      <th>rating_count</th>\n",
       "      <th>rating_five_count</th>\n",
       "      <th>...</th>\n",
       "      <th>merchant_rating_count</th>\n",
       "      <th>merchant_rating</th>\n",
       "      <th>merchant_id</th>\n",
       "      <th>merchant_has_profile_picture</th>\n",
       "      <th>merchant_profile_picture</th>\n",
       "      <th>product_url</th>\n",
       "      <th>product_picture</th>\n",
       "      <th>product_id</th>\n",
       "      <th>theme</th>\n",
       "      <th>crawl_month</th>\n",
       "    </tr>\n",
       "  </thead>\n",
       "  <tbody>\n",
       "    <tr>\n",
       "      <th>0</th>\n",
       "      <td>2020 Summer Vintage Flamingo Print  Pajamas Se...</td>\n",
       "      <td>2020 Summer Vintage Flamingo Print  Pajamas Se...</td>\n",
       "      <td>16.00</td>\n",
       "      <td>14</td>\n",
       "      <td>EUR</td>\n",
       "      <td>100</td>\n",
       "      <td>0</td>\n",
       "      <td>3.76</td>\n",
       "      <td>54</td>\n",
       "      <td>26.0</td>\n",
       "      <td>...</td>\n",
       "      <td>568</td>\n",
       "      <td>4.128521</td>\n",
       "      <td>595097d6a26f6e070cb878d1</td>\n",
       "      <td>0</td>\n",
       "      <td>NaN</td>\n",
       "      <td>https://www.wish.com/c/5e9ae51d43d6a96e303acdb0</td>\n",
       "      <td>https://contestimg.wish.com/api/webimage/5e9ae...</td>\n",
       "      <td>5e9ae51d43d6a96e303acdb0</td>\n",
       "      <td>summer</td>\n",
       "      <td>2020-08</td>\n",
       "    </tr>\n",
       "    <tr>\n",
       "      <th>1</th>\n",
       "      <td>SSHOUSE Summer Casual Sleeveless Soirée Party ...</td>\n",
       "      <td>Women's Casual Summer Sleeveless Sexy Mini Dress</td>\n",
       "      <td>8.00</td>\n",
       "      <td>22</td>\n",
       "      <td>EUR</td>\n",
       "      <td>20000</td>\n",
       "      <td>1</td>\n",
       "      <td>3.45</td>\n",
       "      <td>6135</td>\n",
       "      <td>2269.0</td>\n",
       "      <td>...</td>\n",
       "      <td>17752</td>\n",
       "      <td>3.899673</td>\n",
       "      <td>56458aa03a698c35c9050988</td>\n",
       "      <td>0</td>\n",
       "      <td>NaN</td>\n",
       "      <td>https://www.wish.com/c/58940d436a0d3d5da4e95a38</td>\n",
       "      <td>https://contestimg.wish.com/api/webimage/58940...</td>\n",
       "      <td>58940d436a0d3d5da4e95a38</td>\n",
       "      <td>summer</td>\n",
       "      <td>2020-08</td>\n",
       "    </tr>\n",
       "    <tr>\n",
       "      <th>2</th>\n",
       "      <td>2020 Nouvelle Arrivée Femmes Printemps et Été ...</td>\n",
       "      <td>2020 New Arrival Women Spring and Summer Beach...</td>\n",
       "      <td>8.00</td>\n",
       "      <td>43</td>\n",
       "      <td>EUR</td>\n",
       "      <td>100</td>\n",
       "      <td>0</td>\n",
       "      <td>3.57</td>\n",
       "      <td>14</td>\n",
       "      <td>5.0</td>\n",
       "      <td>...</td>\n",
       "      <td>295</td>\n",
       "      <td>3.989831</td>\n",
       "      <td>5d464a1ffdf7bc44ee933c65</td>\n",
       "      <td>0</td>\n",
       "      <td>NaN</td>\n",
       "      <td>https://www.wish.com/c/5ea10e2c617580260d55310a</td>\n",
       "      <td>https://contestimg.wish.com/api/webimage/5ea10...</td>\n",
       "      <td>5ea10e2c617580260d55310a</td>\n",
       "      <td>summer</td>\n",
       "      <td>2020-08</td>\n",
       "    </tr>\n",
       "    <tr>\n",
       "      <th>3</th>\n",
       "      <td>Hot Summer Cool T-shirt pour les femmes Mode T...</td>\n",
       "      <td>Hot Summer Cool T Shirt for Women Fashion Tops...</td>\n",
       "      <td>8.00</td>\n",
       "      <td>8</td>\n",
       "      <td>EUR</td>\n",
       "      <td>5000</td>\n",
       "      <td>1</td>\n",
       "      <td>4.03</td>\n",
       "      <td>579</td>\n",
       "      <td>295.0</td>\n",
       "      <td>...</td>\n",
       "      <td>23832</td>\n",
       "      <td>4.020435</td>\n",
       "      <td>58cfdefdacb37b556efdff7c</td>\n",
       "      <td>0</td>\n",
       "      <td>NaN</td>\n",
       "      <td>https://www.wish.com/c/5cedf17ad1d44c52c59e4aca</td>\n",
       "      <td>https://contestimg.wish.com/api/webimage/5cedf...</td>\n",
       "      <td>5cedf17ad1d44c52c59e4aca</td>\n",
       "      <td>summer</td>\n",
       "      <td>2020-08</td>\n",
       "    </tr>\n",
       "    <tr>\n",
       "      <th>4</th>\n",
       "      <td>Femmes Shorts d'été à lacets taille élastique ...</td>\n",
       "      <td>Women Summer Shorts Lace Up Elastic Waistband ...</td>\n",
       "      <td>2.72</td>\n",
       "      <td>3</td>\n",
       "      <td>EUR</td>\n",
       "      <td>100</td>\n",
       "      <td>1</td>\n",
       "      <td>3.10</td>\n",
       "      <td>20</td>\n",
       "      <td>6.0</td>\n",
       "      <td>...</td>\n",
       "      <td>14482</td>\n",
       "      <td>4.001588</td>\n",
       "      <td>5ab3b592c3911a095ad5dadb</td>\n",
       "      <td>0</td>\n",
       "      <td>NaN</td>\n",
       "      <td>https://www.wish.com/c/5ebf5819ebac372b070b0e70</td>\n",
       "      <td>https://contestimg.wish.com/api/webimage/5ebf5...</td>\n",
       "      <td>5ebf5819ebac372b070b0e70</td>\n",
       "      <td>summer</td>\n",
       "      <td>2020-08</td>\n",
       "    </tr>\n",
       "  </tbody>\n",
       "</table>\n",
       "<p>5 rows × 43 columns</p>\n",
       "</div>"
      ],
      "text/plain": [
       "                                               title  \\\n",
       "0  2020 Summer Vintage Flamingo Print  Pajamas Se...   \n",
       "1  SSHOUSE Summer Casual Sleeveless Soirée Party ...   \n",
       "2  2020 Nouvelle Arrivée Femmes Printemps et Été ...   \n",
       "3  Hot Summer Cool T-shirt pour les femmes Mode T...   \n",
       "4  Femmes Shorts d'été à lacets taille élastique ...   \n",
       "\n",
       "                                          title_orig  price  retail_price  \\\n",
       "0  2020 Summer Vintage Flamingo Print  Pajamas Se...  16.00            14   \n",
       "1   Women's Casual Summer Sleeveless Sexy Mini Dress   8.00            22   \n",
       "2  2020 New Arrival Women Spring and Summer Beach...   8.00            43   \n",
       "3  Hot Summer Cool T Shirt for Women Fashion Tops...   8.00             8   \n",
       "4  Women Summer Shorts Lace Up Elastic Waistband ...   2.72             3   \n",
       "\n",
       "  currency_buyer  units_sold  uses_ad_boosts  rating  rating_count  \\\n",
       "0            EUR         100               0    3.76            54   \n",
       "1            EUR       20000               1    3.45          6135   \n",
       "2            EUR         100               0    3.57            14   \n",
       "3            EUR        5000               1    4.03           579   \n",
       "4            EUR         100               1    3.10            20   \n",
       "\n",
       "   rating_five_count  ...  merchant_rating_count  merchant_rating  \\\n",
       "0               26.0  ...                    568         4.128521   \n",
       "1             2269.0  ...                  17752         3.899673   \n",
       "2                5.0  ...                    295         3.989831   \n",
       "3              295.0  ...                  23832         4.020435   \n",
       "4                6.0  ...                  14482         4.001588   \n",
       "\n",
       "                merchant_id  merchant_has_profile_picture  \\\n",
       "0  595097d6a26f6e070cb878d1                             0   \n",
       "1  56458aa03a698c35c9050988                             0   \n",
       "2  5d464a1ffdf7bc44ee933c65                             0   \n",
       "3  58cfdefdacb37b556efdff7c                             0   \n",
       "4  5ab3b592c3911a095ad5dadb                             0   \n",
       "\n",
       "   merchant_profile_picture                                      product_url  \\\n",
       "0                       NaN  https://www.wish.com/c/5e9ae51d43d6a96e303acdb0   \n",
       "1                       NaN  https://www.wish.com/c/58940d436a0d3d5da4e95a38   \n",
       "2                       NaN  https://www.wish.com/c/5ea10e2c617580260d55310a   \n",
       "3                       NaN  https://www.wish.com/c/5cedf17ad1d44c52c59e4aca   \n",
       "4                       NaN  https://www.wish.com/c/5ebf5819ebac372b070b0e70   \n",
       "\n",
       "                                     product_picture  \\\n",
       "0  https://contestimg.wish.com/api/webimage/5e9ae...   \n",
       "1  https://contestimg.wish.com/api/webimage/58940...   \n",
       "2  https://contestimg.wish.com/api/webimage/5ea10...   \n",
       "3  https://contestimg.wish.com/api/webimage/5cedf...   \n",
       "4  https://contestimg.wish.com/api/webimage/5ebf5...   \n",
       "\n",
       "                 product_id   theme crawl_month  \n",
       "0  5e9ae51d43d6a96e303acdb0  summer     2020-08  \n",
       "1  58940d436a0d3d5da4e95a38  summer     2020-08  \n",
       "2  5ea10e2c617580260d55310a  summer     2020-08  \n",
       "3  5cedf17ad1d44c52c59e4aca  summer     2020-08  \n",
       "4  5ebf5819ebac372b070b0e70  summer     2020-08  \n",
       "\n",
       "[5 rows x 43 columns]"
      ]
     },
     "execution_count": 4,
     "metadata": {},
     "output_type": "execute_result"
    }
   ],
   "source": [
    "df.head()"
   ]
  },
  {
   "cell_type": "code",
   "execution_count": 5,
   "metadata": {},
   "outputs": [
    {
     "data": {
      "text/html": [
       "<div>\n",
       "<style scoped>\n",
       "    .dataframe tbody tr th:only-of-type {\n",
       "        vertical-align: middle;\n",
       "    }\n",
       "\n",
       "    .dataframe tbody tr th {\n",
       "        vertical-align: top;\n",
       "    }\n",
       "\n",
       "    .dataframe thead th {\n",
       "        text-align: right;\n",
       "    }\n",
       "</style>\n",
       "<table border=\"1\" class=\"dataframe\">\n",
       "  <thead>\n",
       "    <tr style=\"text-align: right;\">\n",
       "      <th></th>\n",
       "      <th>count</th>\n",
       "      <th>keyword</th>\n",
       "    </tr>\n",
       "  </thead>\n",
       "  <tbody>\n",
       "    <tr>\n",
       "      <th>0</th>\n",
       "      <td>1321</td>\n",
       "      <td>Summer</td>\n",
       "    </tr>\n",
       "    <tr>\n",
       "      <th>1</th>\n",
       "      <td>1315</td>\n",
       "      <td>Women's Fashion</td>\n",
       "    </tr>\n",
       "    <tr>\n",
       "      <th>2</th>\n",
       "      <td>1082</td>\n",
       "      <td>Fashion</td>\n",
       "    </tr>\n",
       "    <tr>\n",
       "      <th>3</th>\n",
       "      <td>961</td>\n",
       "      <td>Women</td>\n",
       "    </tr>\n",
       "    <tr>\n",
       "      <th>4</th>\n",
       "      <td>905</td>\n",
       "      <td>Casual</td>\n",
       "    </tr>\n",
       "  </tbody>\n",
       "</table>\n",
       "</div>"
      ],
      "text/plain": [
       "   count          keyword\n",
       "0   1321           Summer\n",
       "1   1315  Women's Fashion\n",
       "2   1082          Fashion\n",
       "3    961            Women\n",
       "4    905           Casual"
      ]
     },
     "execution_count": 5,
     "metadata": {},
     "output_type": "execute_result"
    }
   ],
   "source": [
    "etiquetas.head()"
   ]
  },
  {
   "cell_type": "markdown",
   "metadata": {},
   "source": [
    "Ahora mostramos las columnas junto con sus tipos de datos."
   ]
  },
  {
   "cell_type": "code",
   "execution_count": 6,
   "metadata": {},
   "outputs": [
    {
     "data": {
      "text/plain": [
       "Index(['title', 'title_orig', 'price', 'retail_price', 'currency_buyer',\n",
       "       'units_sold', 'uses_ad_boosts', 'rating', 'rating_count',\n",
       "       'rating_five_count', 'rating_four_count', 'rating_three_count',\n",
       "       'rating_two_count', 'rating_one_count', 'badges_count',\n",
       "       'badge_local_product', 'badge_product_quality', 'badge_fast_shipping',\n",
       "       'tags', 'product_color', 'product_variation_size_id',\n",
       "       'product_variation_inventory', 'shipping_option_name',\n",
       "       'shipping_option_price', 'shipping_is_express', 'countries_shipped_to',\n",
       "       'inventory_total', 'has_urgency_banner', 'urgency_text',\n",
       "       'origin_country', 'merchant_title', 'merchant_name',\n",
       "       'merchant_info_subtitle', 'merchant_rating_count', 'merchant_rating',\n",
       "       'merchant_id', 'merchant_has_profile_picture',\n",
       "       'merchant_profile_picture', 'product_url', 'product_picture',\n",
       "       'product_id', 'theme', 'crawl_month'],\n",
       "      dtype='object')"
      ]
     },
     "execution_count": 6,
     "metadata": {},
     "output_type": "execute_result"
    }
   ],
   "source": [
    "df.columns"
   ]
  },
  {
   "cell_type": "code",
   "execution_count": 7,
   "metadata": {},
   "outputs": [
    {
     "data": {
      "text/plain": [
       "Index(['count', 'keyword'], dtype='object')"
      ]
     },
     "execution_count": 7,
     "metadata": {},
     "output_type": "execute_result"
    }
   ],
   "source": [
    "etiquetas.columns"
   ]
  },
  {
   "cell_type": "code",
   "execution_count": 8,
   "metadata": {},
   "outputs": [
    {
     "data": {
      "text/plain": [
       "title                            object\n",
       "title_orig                       object\n",
       "price                           float64\n",
       "retail_price                      int64\n",
       "currency_buyer                   object\n",
       "units_sold                        int64\n",
       "uses_ad_boosts                    int64\n",
       "rating                          float64\n",
       "rating_count                      int64\n",
       "rating_five_count               float64\n",
       "rating_four_count               float64\n",
       "rating_three_count              float64\n",
       "rating_two_count                float64\n",
       "rating_one_count                float64\n",
       "badges_count                      int64\n",
       "badge_local_product               int64\n",
       "badge_product_quality             int64\n",
       "badge_fast_shipping               int64\n",
       "tags                             object\n",
       "product_color                    object\n",
       "product_variation_size_id        object\n",
       "product_variation_inventory       int64\n",
       "shipping_option_name             object\n",
       "shipping_option_price             int64\n",
       "shipping_is_express               int64\n",
       "countries_shipped_to              int64\n",
       "inventory_total                   int64\n",
       "has_urgency_banner              float64\n",
       "urgency_text                     object\n",
       "origin_country                   object\n",
       "merchant_title                   object\n",
       "merchant_name                    object\n",
       "merchant_info_subtitle           object\n",
       "merchant_rating_count             int64\n",
       "merchant_rating                 float64\n",
       "merchant_id                      object\n",
       "merchant_has_profile_picture      int64\n",
       "merchant_profile_picture         object\n",
       "product_url                      object\n",
       "product_picture                  object\n",
       "product_id                       object\n",
       "theme                            object\n",
       "crawl_month                      object\n",
       "dtype: object"
      ]
     },
     "execution_count": 8,
     "metadata": {},
     "output_type": "execute_result"
    }
   ],
   "source": [
    "df.dtypes"
   ]
  },
  {
   "cell_type": "code",
   "execution_count": 9,
   "metadata": {},
   "outputs": [
    {
     "data": {
      "text/plain": [
       "count       int64\n",
       "keyword    object\n",
       "dtype: object"
      ]
     },
     "execution_count": 9,
     "metadata": {},
     "output_type": "execute_result"
    }
   ],
   "source": [
    "etiquetas.dtypes"
   ]
  },
  {
   "cell_type": "markdown",
   "metadata": {},
   "source": [
    "### Justificación de los datos  \n",
    "Entre las características que nos convencieron para usar esta base de datos es la cantidad abundante de información que posee en columnas, el formato de CSV que tiene y su cantidad de datos que en total son 1573, de igual forma se tiene por separado otro archivo con las etiquetas y el número de veces con que aparece. Esto a nuestro parecer nos permite tener una mayor exactitud en los analisis que realizaremos.\n",
    "    \n",
    "En la actualidad, las compras en línea es una tendencia que va creciendo conforme pasa el tiempo como parte de una era más digitalizada, interactuar con una plataforma digital en este caso Wish, nos es familiar debido a que hemos sido usuarios de otras plataformas que se dedican a esto, creemos que puede ser una ventaja debido a que teniendo ya conocimiento nos puede ayudar a entender el significado de datos y darles interpretación correcta.  \n",
    "\n",
    "Cada día las ventas online se estan volviendo mas \"normales\" y la tendencia de comprar a través de una plataforma está en crecimiento debido a que se les ofrece mas ventajas a los usuarios como es el evitar largas filas y no salir de la comodidad de su hogar, como beneficio creemos que puede ayudarnos a un mayor entendimiento de estas plataformas digitales de venta online, como es que funcionan y que hay detrás de estas plataformas visto desde el punto de vista del vendedor y no el usuario, es decir como el vendedor puede saber si tendra exito en esta plataforma.\n",
    "\n",
    "### Planteamiento del problema  \n",
    "Un emprendedor cuenta con una línea de productos de verano que vende a través de varios locales de su ciudad, está interesado en hacer crecer su negocio y que sus productos puedan llegar a más partes del mundo. \n",
    "\n",
    "Le recomendaron incursionar en las ventas online a través de la plataforma de Wish pero tiene miedo de fracasar en el intento y hacer una sobreproducción de sus productos. El quisiera saber cuáles de sus productos podría comerciar en esta plataforma de tal manera que resulten productos exitosos, es decir que tengan una buena venta y sean populares entre los usuarios.  \n",
    "\n",
    "Por lo tanto, el problema que notamos tiene que ver con distintos aspectos que se manejan en la plataforma como el uso de publicidad, el tipo de envío que se maneja, el vendedor que se ubica entre el gusto del usuario y el producto, entre otras cosas determinantes como lo es en una temporada fuerte que es el verano. Así que sería de buen provecho el saber lo determinante que, desde el punto de vista del cliente, mejoraría su experiencia en las compras online aumentado el gusto de hacerlo y con ella crear mejores relaciones para futuras compras.  \n",
    "\n",
    "De esta manera, nuestro enfoque es que a partir de los datos que tenemos de las ventas del verano, ayudar al emprendedor que quiera vender en la plataforma de Wish para que esté preparado el siguiente verano y que tenga el resultado que espera en su negocio.  \n",
    "\n",
    "### Objetivos  \n",
    "Objetivos principales:\n",
    "- Obtener una serie de características que hacen que un producto sea exitoso en la plataforma de Wish.\n",
    "- Predecir las unidades vendidas que tendrá un producto de acuerdo a las características que lo componen.\n",
    "- Dar una serie de recomendaciones al vendedor para lograr un aumento de sus ventas.  \n",
    "\n",
    "Objetivos secundarios:\n",
    "- Realizar un análisis descriptivo sobre las características de los productos de verano de Wish\n",
    "- Clasificar los productos mostrados en categorías de características en común y determinar el éxito de estas categorías.\n",
    "- Reconocer características similares de los productos más vendidos para identificar el tipo de productos que aparecerá más frecuentemente en las recomendaciones de estos productos exitosos. "
   ]
  },
  {
   "cell_type": "markdown",
   "metadata": {},
   "source": [
    "## Desarrollo de heraramientas\n",
    "### Limpieza de los datos\n",
    "Mostramos los primeros elementos de ambas tablas sin manipulación."
   ]
  },
  {
   "cell_type": "code",
   "execution_count": 10,
   "metadata": {},
   "outputs": [
    {
     "data": {
      "text/html": [
       "<div>\n",
       "<style scoped>\n",
       "    .dataframe tbody tr th:only-of-type {\n",
       "        vertical-align: middle;\n",
       "    }\n",
       "\n",
       "    .dataframe tbody tr th {\n",
       "        vertical-align: top;\n",
       "    }\n",
       "\n",
       "    .dataframe thead th {\n",
       "        text-align: right;\n",
       "    }\n",
       "</style>\n",
       "<table border=\"1\" class=\"dataframe\">\n",
       "  <thead>\n",
       "    <tr style=\"text-align: right;\">\n",
       "      <th></th>\n",
       "      <th>title</th>\n",
       "      <th>title_orig</th>\n",
       "      <th>price</th>\n",
       "      <th>retail_price</th>\n",
       "      <th>currency_buyer</th>\n",
       "      <th>units_sold</th>\n",
       "      <th>uses_ad_boosts</th>\n",
       "      <th>rating</th>\n",
       "      <th>rating_count</th>\n",
       "      <th>rating_five_count</th>\n",
       "      <th>...</th>\n",
       "      <th>merchant_rating_count</th>\n",
       "      <th>merchant_rating</th>\n",
       "      <th>merchant_id</th>\n",
       "      <th>merchant_has_profile_picture</th>\n",
       "      <th>merchant_profile_picture</th>\n",
       "      <th>product_url</th>\n",
       "      <th>product_picture</th>\n",
       "      <th>product_id</th>\n",
       "      <th>theme</th>\n",
       "      <th>crawl_month</th>\n",
       "    </tr>\n",
       "  </thead>\n",
       "  <tbody>\n",
       "    <tr>\n",
       "      <th>0</th>\n",
       "      <td>2020 Summer Vintage Flamingo Print  Pajamas Se...</td>\n",
       "      <td>2020 Summer Vintage Flamingo Print  Pajamas Se...</td>\n",
       "      <td>16.00</td>\n",
       "      <td>14</td>\n",
       "      <td>EUR</td>\n",
       "      <td>100</td>\n",
       "      <td>0</td>\n",
       "      <td>3.76</td>\n",
       "      <td>54</td>\n",
       "      <td>26.0</td>\n",
       "      <td>...</td>\n",
       "      <td>568</td>\n",
       "      <td>4.128521</td>\n",
       "      <td>595097d6a26f6e070cb878d1</td>\n",
       "      <td>0</td>\n",
       "      <td>NaN</td>\n",
       "      <td>https://www.wish.com/c/5e9ae51d43d6a96e303acdb0</td>\n",
       "      <td>https://contestimg.wish.com/api/webimage/5e9ae...</td>\n",
       "      <td>5e9ae51d43d6a96e303acdb0</td>\n",
       "      <td>summer</td>\n",
       "      <td>2020-08</td>\n",
       "    </tr>\n",
       "    <tr>\n",
       "      <th>1</th>\n",
       "      <td>SSHOUSE Summer Casual Sleeveless Soirée Party ...</td>\n",
       "      <td>Women's Casual Summer Sleeveless Sexy Mini Dress</td>\n",
       "      <td>8.00</td>\n",
       "      <td>22</td>\n",
       "      <td>EUR</td>\n",
       "      <td>20000</td>\n",
       "      <td>1</td>\n",
       "      <td>3.45</td>\n",
       "      <td>6135</td>\n",
       "      <td>2269.0</td>\n",
       "      <td>...</td>\n",
       "      <td>17752</td>\n",
       "      <td>3.899673</td>\n",
       "      <td>56458aa03a698c35c9050988</td>\n",
       "      <td>0</td>\n",
       "      <td>NaN</td>\n",
       "      <td>https://www.wish.com/c/58940d436a0d3d5da4e95a38</td>\n",
       "      <td>https://contestimg.wish.com/api/webimage/58940...</td>\n",
       "      <td>58940d436a0d3d5da4e95a38</td>\n",
       "      <td>summer</td>\n",
       "      <td>2020-08</td>\n",
       "    </tr>\n",
       "    <tr>\n",
       "      <th>2</th>\n",
       "      <td>2020 Nouvelle Arrivée Femmes Printemps et Été ...</td>\n",
       "      <td>2020 New Arrival Women Spring and Summer Beach...</td>\n",
       "      <td>8.00</td>\n",
       "      <td>43</td>\n",
       "      <td>EUR</td>\n",
       "      <td>100</td>\n",
       "      <td>0</td>\n",
       "      <td>3.57</td>\n",
       "      <td>14</td>\n",
       "      <td>5.0</td>\n",
       "      <td>...</td>\n",
       "      <td>295</td>\n",
       "      <td>3.989831</td>\n",
       "      <td>5d464a1ffdf7bc44ee933c65</td>\n",
       "      <td>0</td>\n",
       "      <td>NaN</td>\n",
       "      <td>https://www.wish.com/c/5ea10e2c617580260d55310a</td>\n",
       "      <td>https://contestimg.wish.com/api/webimage/5ea10...</td>\n",
       "      <td>5ea10e2c617580260d55310a</td>\n",
       "      <td>summer</td>\n",
       "      <td>2020-08</td>\n",
       "    </tr>\n",
       "    <tr>\n",
       "      <th>3</th>\n",
       "      <td>Hot Summer Cool T-shirt pour les femmes Mode T...</td>\n",
       "      <td>Hot Summer Cool T Shirt for Women Fashion Tops...</td>\n",
       "      <td>8.00</td>\n",
       "      <td>8</td>\n",
       "      <td>EUR</td>\n",
       "      <td>5000</td>\n",
       "      <td>1</td>\n",
       "      <td>4.03</td>\n",
       "      <td>579</td>\n",
       "      <td>295.0</td>\n",
       "      <td>...</td>\n",
       "      <td>23832</td>\n",
       "      <td>4.020435</td>\n",
       "      <td>58cfdefdacb37b556efdff7c</td>\n",
       "      <td>0</td>\n",
       "      <td>NaN</td>\n",
       "      <td>https://www.wish.com/c/5cedf17ad1d44c52c59e4aca</td>\n",
       "      <td>https://contestimg.wish.com/api/webimage/5cedf...</td>\n",
       "      <td>5cedf17ad1d44c52c59e4aca</td>\n",
       "      <td>summer</td>\n",
       "      <td>2020-08</td>\n",
       "    </tr>\n",
       "    <tr>\n",
       "      <th>4</th>\n",
       "      <td>Femmes Shorts d'été à lacets taille élastique ...</td>\n",
       "      <td>Women Summer Shorts Lace Up Elastic Waistband ...</td>\n",
       "      <td>2.72</td>\n",
       "      <td>3</td>\n",
       "      <td>EUR</td>\n",
       "      <td>100</td>\n",
       "      <td>1</td>\n",
       "      <td>3.10</td>\n",
       "      <td>20</td>\n",
       "      <td>6.0</td>\n",
       "      <td>...</td>\n",
       "      <td>14482</td>\n",
       "      <td>4.001588</td>\n",
       "      <td>5ab3b592c3911a095ad5dadb</td>\n",
       "      <td>0</td>\n",
       "      <td>NaN</td>\n",
       "      <td>https://www.wish.com/c/5ebf5819ebac372b070b0e70</td>\n",
       "      <td>https://contestimg.wish.com/api/webimage/5ebf5...</td>\n",
       "      <td>5ebf5819ebac372b070b0e70</td>\n",
       "      <td>summer</td>\n",
       "      <td>2020-08</td>\n",
       "    </tr>\n",
       "  </tbody>\n",
       "</table>\n",
       "<p>5 rows × 43 columns</p>\n",
       "</div>"
      ],
      "text/plain": [
       "                                               title  \\\n",
       "0  2020 Summer Vintage Flamingo Print  Pajamas Se...   \n",
       "1  SSHOUSE Summer Casual Sleeveless Soirée Party ...   \n",
       "2  2020 Nouvelle Arrivée Femmes Printemps et Été ...   \n",
       "3  Hot Summer Cool T-shirt pour les femmes Mode T...   \n",
       "4  Femmes Shorts d'été à lacets taille élastique ...   \n",
       "\n",
       "                                          title_orig  price  retail_price  \\\n",
       "0  2020 Summer Vintage Flamingo Print  Pajamas Se...  16.00            14   \n",
       "1   Women's Casual Summer Sleeveless Sexy Mini Dress   8.00            22   \n",
       "2  2020 New Arrival Women Spring and Summer Beach...   8.00            43   \n",
       "3  Hot Summer Cool T Shirt for Women Fashion Tops...   8.00             8   \n",
       "4  Women Summer Shorts Lace Up Elastic Waistband ...   2.72             3   \n",
       "\n",
       "  currency_buyer  units_sold  uses_ad_boosts  rating  rating_count  \\\n",
       "0            EUR         100               0    3.76            54   \n",
       "1            EUR       20000               1    3.45          6135   \n",
       "2            EUR         100               0    3.57            14   \n",
       "3            EUR        5000               1    4.03           579   \n",
       "4            EUR         100               1    3.10            20   \n",
       "\n",
       "   rating_five_count  ...  merchant_rating_count  merchant_rating  \\\n",
       "0               26.0  ...                    568         4.128521   \n",
       "1             2269.0  ...                  17752         3.899673   \n",
       "2                5.0  ...                    295         3.989831   \n",
       "3              295.0  ...                  23832         4.020435   \n",
       "4                6.0  ...                  14482         4.001588   \n",
       "\n",
       "                merchant_id  merchant_has_profile_picture  \\\n",
       "0  595097d6a26f6e070cb878d1                             0   \n",
       "1  56458aa03a698c35c9050988                             0   \n",
       "2  5d464a1ffdf7bc44ee933c65                             0   \n",
       "3  58cfdefdacb37b556efdff7c                             0   \n",
       "4  5ab3b592c3911a095ad5dadb                             0   \n",
       "\n",
       "   merchant_profile_picture                                      product_url  \\\n",
       "0                       NaN  https://www.wish.com/c/5e9ae51d43d6a96e303acdb0   \n",
       "1                       NaN  https://www.wish.com/c/58940d436a0d3d5da4e95a38   \n",
       "2                       NaN  https://www.wish.com/c/5ea10e2c617580260d55310a   \n",
       "3                       NaN  https://www.wish.com/c/5cedf17ad1d44c52c59e4aca   \n",
       "4                       NaN  https://www.wish.com/c/5ebf5819ebac372b070b0e70   \n",
       "\n",
       "                                     product_picture  \\\n",
       "0  https://contestimg.wish.com/api/webimage/5e9ae...   \n",
       "1  https://contestimg.wish.com/api/webimage/58940...   \n",
       "2  https://contestimg.wish.com/api/webimage/5ea10...   \n",
       "3  https://contestimg.wish.com/api/webimage/5cedf...   \n",
       "4  https://contestimg.wish.com/api/webimage/5ebf5...   \n",
       "\n",
       "                 product_id   theme crawl_month  \n",
       "0  5e9ae51d43d6a96e303acdb0  summer     2020-08  \n",
       "1  58940d436a0d3d5da4e95a38  summer     2020-08  \n",
       "2  5ea10e2c617580260d55310a  summer     2020-08  \n",
       "3  5cedf17ad1d44c52c59e4aca  summer     2020-08  \n",
       "4  5ebf5819ebac372b070b0e70  summer     2020-08  \n",
       "\n",
       "[5 rows x 43 columns]"
      ]
     },
     "execution_count": 10,
     "metadata": {},
     "output_type": "execute_result"
    }
   ],
   "source": [
    "df.head()"
   ]
  },
  {
   "cell_type": "code",
   "execution_count": 11,
   "metadata": {},
   "outputs": [
    {
     "data": {
      "text/html": [
       "<div>\n",
       "<style scoped>\n",
       "    .dataframe tbody tr th:only-of-type {\n",
       "        vertical-align: middle;\n",
       "    }\n",
       "\n",
       "    .dataframe tbody tr th {\n",
       "        vertical-align: top;\n",
       "    }\n",
       "\n",
       "    .dataframe thead th {\n",
       "        text-align: right;\n",
       "    }\n",
       "</style>\n",
       "<table border=\"1\" class=\"dataframe\">\n",
       "  <thead>\n",
       "    <tr style=\"text-align: right;\">\n",
       "      <th></th>\n",
       "      <th>count</th>\n",
       "      <th>keyword</th>\n",
       "    </tr>\n",
       "  </thead>\n",
       "  <tbody>\n",
       "    <tr>\n",
       "      <th>0</th>\n",
       "      <td>1321</td>\n",
       "      <td>Summer</td>\n",
       "    </tr>\n",
       "    <tr>\n",
       "      <th>1</th>\n",
       "      <td>1315</td>\n",
       "      <td>Women's Fashion</td>\n",
       "    </tr>\n",
       "    <tr>\n",
       "      <th>2</th>\n",
       "      <td>1082</td>\n",
       "      <td>Fashion</td>\n",
       "    </tr>\n",
       "    <tr>\n",
       "      <th>3</th>\n",
       "      <td>961</td>\n",
       "      <td>Women</td>\n",
       "    </tr>\n",
       "    <tr>\n",
       "      <th>4</th>\n",
       "      <td>905</td>\n",
       "      <td>Casual</td>\n",
       "    </tr>\n",
       "  </tbody>\n",
       "</table>\n",
       "</div>"
      ],
      "text/plain": [
       "   count          keyword\n",
       "0   1321           Summer\n",
       "1   1315  Women's Fashion\n",
       "2   1082          Fashion\n",
       "3    961            Women\n",
       "4    905           Casual"
      ]
     },
     "execution_count": 11,
     "metadata": {},
     "output_type": "execute_result"
    }
   ],
   "source": [
    "etiquetas.head()"
   ]
  },
  {
   "cell_type": "markdown",
   "metadata": {},
   "source": [
    "Comenzando con la limpieza quitaremos columnas que no tienen información de nuestro interés explicadas a continuación:\n",
    "\n",
    "- currency_buyer.- Se elimina esta columna ya que no nos interesa la moneda, además se usa la misma al estar situada en euros\n",
    "\n",
    "- rating_five_count, rating_four_count, rating_three_count, rating_two_count, rating_one_count .- Se eliminan ya que utilizaremos solamente el rating ya promediado\n",
    "\n",
    "- badges_count.- No nos interesa mucho el saber cuántas tiene sino cuales son las que se poseen\n",
    "\n",
    "- product_variation_size_id.- Las omitimos ya que se muestran muchas tallas diferentes y hay distintos tipos de productos\n",
    "\n",
    "- inventory_total.- Los inventarios son mayores de 50 y solo se muestra ese valor\n",
    "\n",
    "- merchant_title.- No es de interés el nombre público del vendedor\n",
    "\n",
    "- merchant_name.- No es de interés el nombre de usuario del vendedor\n",
    "\n",
    "- product_url.- Solo sirve para la consulta de los datos pero no es de interés en el análisis\n",
    "\n",
    "- merchant_profile_picture.- No es de interés saber la foto de perfil del vendedor\n",
    "\n",
    "- product_picture .- No es determinante ver la foto del producto \n",
    "\n",
    "- theme.- Queda aclarado en la base de datos que todos son de verano\n",
    "\n",
    "- crawl_month.- Todos son ubicados en el mes de agosto"
   ]
  },
  {
   "cell_type": "code",
   "execution_count": 12,
   "metadata": {},
   "outputs": [],
   "source": [
    "Datos_PIA=df.drop(['currency_buyer','rating_five_count', 'rating_four_count', 'rating_three_count',\n",
    "       'rating_two_count', 'rating_one_count','badges_count','product_variation_size_id',\n",
    "        'inventory_total','merchant_title', 'merchant_name','product_url', 'merchant_profile_picture',\n",
    "        'product_picture','theme','crawl_month'],axis=1)"
   ]
  },
  {
   "cell_type": "markdown",
   "metadata": {},
   "source": [
    "Así, conservamos las siguientes columnas:"
   ]
  },
  {
   "cell_type": "code",
   "execution_count": 13,
   "metadata": {},
   "outputs": [
    {
     "data": {
      "text/plain": [
       "Index(['title', 'title_orig', 'price', 'retail_price', 'units_sold',\n",
       "       'uses_ad_boosts', 'rating', 'rating_count', 'badge_local_product',\n",
       "       'badge_product_quality', 'badge_fast_shipping', 'tags', 'product_color',\n",
       "       'product_variation_inventory', 'shipping_option_name',\n",
       "       'shipping_option_price', 'shipping_is_express', 'countries_shipped_to',\n",
       "       'has_urgency_banner', 'urgency_text', 'origin_country',\n",
       "       'merchant_info_subtitle', 'merchant_rating_count', 'merchant_rating',\n",
       "       'merchant_id', 'merchant_has_profile_picture', 'product_id'],\n",
       "      dtype='object')"
      ]
     },
     "execution_count": 13,
     "metadata": {},
     "output_type": "execute_result"
    }
   ],
   "source": [
    "Datos_PIA.columns"
   ]
  },
  {
   "cell_type": "markdown",
   "metadata": {},
   "source": [
    "Se procede a verificar en qué columnas se encuentran datos nulos. Como el dataframe de etiquetas no tiene datos nulos, no sufrirá cambios. Para la base de datos principal vemos la suma de cuántos datos nulos hay."
   ]
  },
  {
   "cell_type": "code",
   "execution_count": 14,
   "metadata": {},
   "outputs": [
    {
     "data": {
      "text/plain": [
       "title                              0\n",
       "title_orig                         0\n",
       "price                              0\n",
       "retail_price                       0\n",
       "units_sold                         0\n",
       "uses_ad_boosts                     0\n",
       "rating                             0\n",
       "rating_count                       0\n",
       "badge_local_product                0\n",
       "badge_product_quality              0\n",
       "badge_fast_shipping                0\n",
       "tags                               0\n",
       "product_color                     41\n",
       "product_variation_inventory        0\n",
       "shipping_option_name               0\n",
       "shipping_option_price              0\n",
       "shipping_is_express                0\n",
       "countries_shipped_to               0\n",
       "has_urgency_banner              1100\n",
       "urgency_text                    1100\n",
       "origin_country                    17\n",
       "merchant_info_subtitle             1\n",
       "merchant_rating_count              0\n",
       "merchant_rating                    0\n",
       "merchant_id                        0\n",
       "merchant_has_profile_picture       0\n",
       "product_id                         0\n",
       "dtype: int64"
      ]
     },
     "execution_count": 14,
     "metadata": {},
     "output_type": "execute_result"
    }
   ],
   "source": [
    "Datos_PIA.isnull().sum()"
   ]
  },
  {
   "cell_type": "markdown",
   "metadata": {},
   "source": [
    "Esto nos ayuda a enfocarnos en las columnas product_color, has_urgency_banner, urgency_text, origin_country y merchant_info_subtitle.\n",
    "\n",
    "Rellenamos los espacio vacíos."
   ]
  },
  {
   "cell_type": "code",
   "execution_count": 15,
   "metadata": {},
   "outputs": [],
   "source": [
    "Datos_PIA_limpio=Datos_PIA.fillna(0)"
   ]
  },
  {
   "cell_type": "markdown",
   "metadata": {},
   "source": [
    "Se cambian los ceros de estas columnas ya que nos es más util mostrar aquí que no hay ninguna selección"
   ]
  },
  {
   "cell_type": "code",
   "execution_count": 16,
   "metadata": {},
   "outputs": [],
   "source": [
    "Datos_PIA_limpio.urgency_text=Datos_PIA_limpio.urgency_text.replace(0,\"ninguno\")\n",
    "Datos_PIA_limpio.product_color=Datos_PIA_limpio.product_color.replace(0,\"ninguno\")\n",
    "Datos_PIA_limpio.origin_country=Datos_PIA_limpio.origin_country.replace(0,\"ninguno\")\n",
    "Datos_PIA_limpio.merchant_info_subtitle=Datos_PIA_limpio.merchant_info_subtitle.replace(0,\"ninguno\")"
   ]
  },
  {
   "cell_type": "markdown",
   "metadata": {},
   "source": [
    "Algo que tenemos que considerar es que nos interesa cambiar los valores de la columna \"merchant_info_subtitle\", ya que es un enunciado con la reputación pero en algunos casos no viene el porcentaje así que se asignará un 0 a pesar de tener reseñas."
   ]
  },
  {
   "cell_type": "code",
   "execution_count": 17,
   "metadata": {},
   "outputs": [],
   "source": [
    "Detalles=list(Datos_PIA_limpio.merchant_info_subtitle)"
   ]
  },
  {
   "cell_type": "markdown",
   "metadata": {},
   "source": [
    "Aquí hacemos una lista y nos interesa tener el número a lado del porcentaje ya que es lo positivo de las reseñas."
   ]
  },
  {
   "cell_type": "code",
   "execution_count": 18,
   "metadata": {},
   "outputs": [],
   "source": [
    "for i in range(0,len(Detalles)):   \n",
    "    auxiliar=Detalles[i]\n",
    "    flag= \"%\" in auxiliar\n",
    "    if flag==True:\n",
    "        auxiliar2=auxiliar.replace(\" \",\"\")\n",
    "        posicion=auxiliar2.find(\"%\")\n",
    "        Detalles[i]=float(auxiliar[(posicion-2):posicion])/100\n",
    "    else:\n",
    "        Detalles[i]=0"
   ]
  },
  {
   "cell_type": "markdown",
   "metadata": {},
   "source": [
    "Hacemos el cambio de los datos."
   ]
  },
  {
   "cell_type": "code",
   "execution_count": 19,
   "metadata": {},
   "outputs": [
    {
     "name": "stdout",
     "output_type": "stream",
     "text": [
      "0       0.00\n",
      "1       0.83\n",
      "2       0.86\n",
      "3       0.00\n",
      "4       0.85\n",
      "        ... \n",
      "1568    0.90\n",
      "1569    0.00\n",
      "1570    0.86\n",
      "1571    0.77\n",
      "1572    0.90\n",
      "Name: merchant_info_subtitle, Length: 1573, dtype: float64\n"
     ]
    }
   ],
   "source": [
    "Datos_PIA_limpio[\"merchant_info_subtitle\"]=Detalles\n",
    "print(Datos_PIA_limpio[\"merchant_info_subtitle\"])"
   ]
  },
  {
   "cell_type": "markdown",
   "metadata": {},
   "source": [
    "Aquí asignamos a las columnas en donde los datos son 0 y 1 el tipo de bool ya que es lo que representan y nos interesa que tengan su tipo correspondiente."
   ]
  },
  {
   "cell_type": "code",
   "execution_count": 20,
   "metadata": {},
   "outputs": [],
   "source": [
    "Datos_PIA_limpio.uses_ad_boosts=Datos_PIA_limpio.uses_ad_boosts.astype(\"bool\")\n",
    "Datos_PIA_limpio.badge_local_product=Datos_PIA_limpio.badge_local_product.astype(\"bool\")\n",
    "Datos_PIA_limpio.badge_product_quality=Datos_PIA_limpio.badge_product_quality.astype(\"bool\")\n",
    "Datos_PIA_limpio.badge_fast_shipping=Datos_PIA_limpio.badge_fast_shipping.astype(\"bool\")\n",
    "Datos_PIA_limpio.shipping_is_express=Datos_PIA_limpio.shipping_is_express.astype(\"bool\")\n",
    "Datos_PIA_limpio.has_urgency_banner=Datos_PIA_limpio.has_urgency_banner.astype(\"bool\")\n",
    "Datos_PIA_limpio.merchant_has_profile_picture=Datos_PIA_limpio.merchant_has_profile_picture.astype(\"bool\")"
   ]
  },
  {
   "cell_type": "markdown",
   "metadata": {},
   "source": [
    "Finalmente guardamos los datos que vamos a usar en un nuevo archivo csv."
   ]
  },
  {
   "cell_type": "code",
   "execution_count": 21,
   "metadata": {},
   "outputs": [],
   "source": [
    "Datos_PIA_limpio.to_csv(\"summer-products-limpio.csv\",index=False)"
   ]
  },
  {
   "cell_type": "markdown",
   "metadata": {},
   "source": [
    "### Estadística básica de los datos"
   ]
  },
  {
   "cell_type": "markdown",
   "metadata": {},
   "source": [
    "Realizamos algunas estadísticas que creimos necesarias para observar rangos y puntos de partida para algun análisis futuro.\n",
    "Usamos una instrucción para no dejarlas por partes.\n",
    "\n",
    "Aquí se puede observar un dato interesante ya que nos muestra que lo máximo que se ha podido vender en la temporada es 100,000, además que la media es de 4336.00539302 muy desproporcional al la mediana que es de 1000.\n",
    "Interpretando esto podemos ver que alrededor del 50% de los productos en los datos no vendieron más de 1000, entonces nos da oportunidad de ver las debilidades y después corregirlas para generar más ventas, comparando con los que si vendieron."
   ]
  },
  {
   "cell_type": "code",
   "execution_count": 22,
   "metadata": {},
   "outputs": [
    {
     "data": {
      "text/plain": [
       "count      1573.000000\n",
       "mean       4339.005086\n",
       "std        9356.539302\n",
       "min           1.000000\n",
       "25%         100.000000\n",
       "50%        1000.000000\n",
       "75%        5000.000000\n",
       "max      100000.000000\n",
       "Name: units_sold, dtype: float64"
      ]
     },
     "execution_count": 22,
     "metadata": {},
     "output_type": "execute_result"
    }
   ],
   "source": [
    "Datos_PIA_limpio[\"units_sold\"].describe()"
   ]
  },
  {
   "cell_type": "markdown",
   "metadata": {},
   "source": [
    "Del rating que nos interesa de los productos podemos ver que el 50% de los datos resultan ser mayores a 3.85, lo cual es parecido a la media con 3.82, por lo tanto es normal que muchos de los vendedores pueden tender a tener una calificación de más de 3 estrellas."
   ]
  },
  {
   "cell_type": "code",
   "execution_count": 23,
   "metadata": {},
   "outputs": [
    {
     "data": {
      "text/plain": [
       "count    1573.000000\n",
       "mean        3.820896\n",
       "std         0.515374\n",
       "min         1.000000\n",
       "25%         3.550000\n",
       "50%         3.850000\n",
       "75%         4.110000\n",
       "max         5.000000\n",
       "Name: rating, dtype: float64"
      ]
     },
     "execution_count": 23,
     "metadata": {},
     "output_type": "execute_result"
    }
   ],
   "source": [
    "Datos_PIA_limpio[\"rating\"].describe()"
   ]
  },
  {
   "cell_type": "markdown",
   "metadata": {},
   "source": [
    "Del precio es una varibale interesante en saber ya que este puede ser observado como el precio de descuentos de verano o similar y observamos que lo maximo que hay es de 49 euros y lo demás resulta ser muy barato ya que al 75% de los datos resultan ser menores a 11 euros, con lo cual son promociones para este tiempo"
   ]
  },
  {
   "cell_type": "code",
   "execution_count": 24,
   "metadata": {},
   "outputs": [
    {
     "data": {
      "text/plain": [
       "count    1573.000000\n",
       "mean        8.325372\n",
       "std         3.932030\n",
       "min         1.000000\n",
       "25%         5.810000\n",
       "50%         8.000000\n",
       "75%        11.000000\n",
       "max        49.000000\n",
       "Name: price, dtype: float64"
      ]
     },
     "execution_count": 24,
     "metadata": {},
     "output_type": "execute_result"
    }
   ],
   "source": [
    "Datos_PIA_limpio[\"price\"].describe()"
   ]
  },
  {
   "cell_type": "markdown",
   "metadata": {},
   "source": [
    "De igual forma en esta parte observamos la puntuación que se le asigna al vendedor y se observa ser muy positiva siento que el 75% de los datos resulta ser mayor a 3.91 entonces es un punto bueno en que la mayoría tiene buen perfil."
   ]
  },
  {
   "cell_type": "code",
   "execution_count": 25,
   "metadata": {},
   "outputs": [
    {
     "data": {
      "text/plain": [
       "count    1573.000000\n",
       "mean        4.032345\n",
       "std         0.204768\n",
       "min         2.333333\n",
       "25%         3.917353\n",
       "50%         4.040650\n",
       "75%         4.161797\n",
       "max         5.000000\n",
       "Name: merchant_rating, dtype: float64"
      ]
     },
     "execution_count": 25,
     "metadata": {},
     "output_type": "execute_result"
    }
   ],
   "source": [
    "Datos_PIA_limpio[\"merchant_rating\"].describe()"
   ]
  },
  {
   "cell_type": "markdown",
   "metadata": {},
   "source": [
    "Esta parte nos interesa para saber si los ratings de los productos puedan ser acertados dependiendo de las reseñas que ha tenido, y por lo que vemos es mucha la brecha que hay en los clientes para dar reseñas por que resulta que al menos el 50% tienen 150 reseñas a comparacion de otros donde el máximo resulta ser hasta 20,744."
   ]
  },
  {
   "cell_type": "code",
   "execution_count": 26,
   "metadata": {},
   "outputs": [
    {
     "data": {
      "text/plain": [
       "count     1573.000000\n",
       "mean       889.659250\n",
       "std       1983.928834\n",
       "min          0.000000\n",
       "25%         24.000000\n",
       "50%        150.000000\n",
       "75%        855.000000\n",
       "max      20744.000000\n",
       "Name: rating_count, dtype: float64"
      ]
     },
     "execution_count": 26,
     "metadata": {},
     "output_type": "execute_result"
    }
   ],
   "source": [
    "Datos_PIA_limpio['rating_count'].describe()"
   ]
  },
  {
   "cell_type": "markdown",
   "metadata": {},
   "source": [
    "### Gráficas"
   ]
  },
  {
   "cell_type": "markdown",
   "metadata": {},
   "source": [
    "Primero analizaremos las dos variables que buscamos predecir: Las unidades vendidas y el rating."
   ]
  },
  {
   "cell_type": "code",
   "execution_count": 27,
   "metadata": {},
   "outputs": [
    {
     "data": {
      "image/png": "[encoded data removed]",
      "text/plain": [
       "<Figure size 720x432 with 1 Axes>"
      ]
     },
     "metadata": {
      "needs_background": "light"
     },
     "output_type": "display_data"
    }
   ],
   "source": [
    "plt.figure(figsize=(10,6))\n",
    "plt.rcParams.update({'font.size': 16})\n",
    "p=sns.countplot(Datos_PIA_limpio['units_sold'])\n",
    "p.set_xticklabels(p.get_xticklabels(), rotation=40, ha=\"right\")\n",
    "plt.show()"
   ]
  },
  {
   "cell_type": "markdown",
   "metadata": {},
   "source": [
    "Observamos que los datos de unidades vendidas no muestran valores continuos, sino varias categorías a las que las verdaderas unidades vendidas se acercan más. La mayor cantidad de los productos vende lo que podemos considerar entre 100 y 999 unidades. El éxito de un producto en este criterio corresponderá a las categorías mayores."
   ]
  },
  {
   "cell_type": "code",
   "execution_count": 28,
   "metadata": {},
   "outputs": [
    {
     "data": {
      "image/png": "[encoded data removed]",
      "text/plain": [
       "<Figure size 720x432 with 1 Axes>"
      ]
     },
     "metadata": {
      "needs_background": "light"
     },
     "output_type": "display_data"
    }
   ],
   "source": [
    "plt.figure(figsize=(10,6))\n",
    "plt.rcParams.update({'font.size': 16})\n",
    "x=plt.hist(Datos_PIA_limpio.rating,fc=(1,0,0,0.5),bins=30,label=\"Original\")\n",
    "y=plt.hist(Datos_PIA_limpio[Datos_PIA_limpio[\"rating_count\"]>0].rating,fc=(0,1,0,0.5),bins=30,label=\"rating_count > 0\")\n",
    "plt.legend()\n",
    "plt.show()"
   ]
  },
  {
   "cell_type": "markdown",
   "metadata": {},
   "source": [
    "La mayoría de los productos parece tener un rating entre 3 y 4.5. Es poco común que el rating sea menor que 2.5, y el histograma sugiere que el rango de 3.5 a 4 tiene la mayor concentración. Observamos una inusual cantidad de ratings de 5, la cual podemos suponer que se debe a los productos sin ratings. Al graficar un segundo histograma descartando solamente aquellos con número de ratings de 0, podemos notar que este es el rating por defecto, ya que los únicos elementos visibles del primer histograma corresponden al rating de 5."
   ]
  },
  {
   "cell_type": "code",
   "execution_count": 29,
   "metadata": {},
   "outputs": [
    {
     "data": {
      "text/plain": [
       "<seaborn.axisgrid.JointGrid at 0x2989fc51ca0>"
      ]
     },
     "execution_count": 29,
     "metadata": {},
     "output_type": "execute_result"
    },
    {
     "data": {
      "image/png": "[encoded data removed]",
      "text/plain": [
       "<Figure size 432x432 with 3 Axes>"
      ]
     },
     "metadata": {
      "needs_background": "light"
     },
     "output_type": "display_data"
    }
   ],
   "source": [
    "plt.rcParams.update({'font.size': 12})\n",
    "sns.jointplot(x=\"rating\",y=\"rating_count\",data=Datos_PIA_limpio,xlim=[3,5],ylim=[0,1500],kind=\"kde\")"
   ]
  },
  {
   "cell_type": "markdown",
   "metadata": {},
   "source": [
    "Ahora comparamos el valor con la cantidad de ratings, acotando la gráfica a los intervalos significativos. Naturalmente, la distribución del número de ratings disminuye conforme el número aumenta, por lo que la mayor densidad se encuentra cerca del fondo de la gráfica. Considerando lo observado de la gráfica anterior, el mayor aporte a la densidad en el rating 5 corresponde a los elementos aún no calificados.\n",
    "\n",
    "Ahora analizaremos la relación de estas variables con otras que podrán influir en su resultado. Iniciamos con las etiquetas de la columna tags."
   ]
  },
  {
   "cell_type": "code",
   "execution_count": 30,
   "metadata": {},
   "outputs": [
    {
     "data": {
      "image/png": "[encoded data removed]",
      "text/plain": [
       "<Figure size 1152x648 with 1 Axes>"
      ]
     },
     "metadata": {},
     "output_type": "display_data"
    }
   ],
   "source": [
    "plt.figure(figsize=(16,9))\n",
    "plt.rcParams.update({'font.size': 16})\n",
    "plt.pie(\"count\",labels=\"keyword\",data=etiquetas[0:15])\n",
    "plt.show()"
   ]
  },
  {
   "cell_type": "markdown",
   "metadata": {},
   "source": [
    "Visualizamos las 15 palabras claves de búsqueda para la mayoría de nuestros productos de verano, siento las etiquetas con mayor frecuencia \"Summer\", \"Women's Fashion\", \"Fashion\" y \"Women\". De lo anterior podemos inferir que nuestro mayor público en esta base de datos esta dirigido hacia las mujeres. A continuación comparamos la distribución de estas etiquetas en un subconjunto de productos exitosos."
   ]
  },
  {
   "cell_type": "code",
   "execution_count": 31,
   "metadata": {},
   "outputs": [
    {
     "name": "stdout",
     "output_type": "stream",
     "text": [
      "n =  119\n"
     ]
    },
    {
     "data": {
      "image/png": "[encoded data removed]",
      "text/plain": [
       "<Figure size 720x432 with 1 Axes>"
      ]
     },
     "metadata": {
      "needs_background": "light"
     },
     "output_type": "display_data"
    }
   ],
   "source": [
    "dataset=Datos_PIA_limpio[(Datos_PIA_limpio[\"units_sold\"]>=5000)&(Datos_PIA_limpio[\"rating\"]>=4.11)]\n",
    "print(\"n = \",dataset.shape[0])\n",
    "freq=[]\n",
    "for tag in etiquetas[0:15][\"keyword\"]:\n",
    "    freq.append(dataset[dataset[\"tags\"].str.contains(tag)].shape[0])\n",
    "relative_count=etiquetas[0:15][\"count\"]/sum(etiquetas[0:15][\"count\"])\n",
    "relative_freq=[x/sum(freq) for x in freq]\n",
    "selection=pd.DataFrame({\"keyword\":etiquetas[0:15][\"keyword\"],\"Original\":relative_count,\"Exitosos\":relative_freq})\n",
    "bars=pd.melt(selection,id_vars=\"keyword\",var_name=\"Dataset\",value_name=\"frequency\")\n",
    "plt.figure(figsize=(10,6))\n",
    "plt.rcParams.update({'font.size': 16})\n",
    "p=sns.barplot(x=\"keyword\",y=\"frequency\",data=bars,hue=\"Dataset\")\n",
    "p.set_xticklabels(p.get_xticklabels(), rotation=40, ha=\"right\")\n",
    "plt.show()"
   ]
  },
  {
   "cell_type": "markdown",
   "metadata": {},
   "source": [
    "Comparamos las mismas 15 etiquetas para los productos del último cuartil de unidades vendidas y de rating: productos con calificación mayor a 4.11 y ventas superiores a 5000. Podemos observar la infuencia de algunas de estas etiquetas en la pertenencia del producto en el subconjunto deseado. Etiquetas como \"Fashion\", \"Women\", \"Tops\", \"sexy\" y \"Print\" aparecen con mayor frecuencia en los productos exitosos, por lo que etiquetar un producto con estas palabras influirá de manera positiva en su éxito.\n",
    "\n",
    "A continuación, analizamos la influencia de las insignias."
   ]
  },
  {
   "cell_type": "code",
   "execution_count": 32,
   "metadata": {},
   "outputs": [
    {
     "data": {
      "text/plain": [
       "<seaborn.axisgrid.FacetGrid at 0x298a01f34f0>"
      ]
     },
     "execution_count": 32,
     "metadata": {},
     "output_type": "execute_result"
    },
    {
     "data": {
      "image/png": "[encoded data removed]",
      "text/plain": [
       "<Figure size 441.6x216 with 2 Axes>"
      ]
     },
     "metadata": {
      "needs_background": "light"
     },
     "output_type": "display_data"
    }
   ],
   "source": [
    "plt.rcParams.update({'font.size': 12})\n",
    "g = sns.FacetGrid(Datos_PIA_limpio, col=\"badge_product_quality\")\n",
    "g.map(sns.scatterplot, \"rating\", \"rating_count\", alpha=.05)\n",
    "g.add_legend()"
   ]
  },
  {
   "cell_type": "markdown",
   "metadata": {},
   "source": [
    "Aqui observamos que es cierto que la calidad del prodcuto se ve reflejada en la badge de calidad, y esto nos confirma que sí ya que las que la tiene tienden a estar en más de 4 de rating."
   ]
  },
  {
   "cell_type": "code",
   "execution_count": 33,
   "metadata": {},
   "outputs": [
    {
     "data": {
      "text/plain": [
       "<seaborn.axisgrid.FacetGrid at 0x298a0427d30>"
      ]
     },
     "execution_count": 33,
     "metadata": {},
     "output_type": "execute_result"
    },
    {
     "data": {
      "image/png": "[encoded data removed]",
      "text/plain": [
       "<Figure size 432x432 with 4 Axes>"
      ]
     },
     "metadata": {
      "needs_background": "light"
     },
     "output_type": "display_data"
    }
   ],
   "source": [
    "g = sns.FacetGrid(Datos_PIA_limpio,row=\"badge_fast_shipping\", col=\"shipping_is_express\", margin_titles=True)\n",
    "g.map(sns.regplot, \"rating\",\"rating_count\", fit_reg=False, x_jitter=.1)"
   ]
  },
  {
   "cell_type": "markdown",
   "metadata": {},
   "source": [
    "Aquí lo que se verifica es que también el rating se vea influido por el envio rápido, la mayoria no lo tiene, y los que lo tienen no son suficientes. Además nos podemos dar cuenta que varios datos que se supone la tienen no tienen un envío express."
   ]
  },
  {
   "cell_type": "code",
   "execution_count": 34,
   "metadata": {},
   "outputs": [
    {
     "data": {
      "text/plain": [
       "<seaborn.axisgrid.FacetGrid at 0x298a04a1eb0>"
      ]
     },
     "execution_count": 34,
     "metadata": {},
     "output_type": "execute_result"
    },
    {
     "data": {
      "image/png": "[encoded data removed]",
      "text/plain": [
       "<Figure size 360x360 with 1 Axes>"
      ]
     },
     "metadata": {
      "needs_background": "light"
     },
     "output_type": "display_data"
    }
   ],
   "source": [
    "plt.rcParams.update({'font.size': 12})\n",
    "sns.catplot(x=\"shipping_is_express\",y=\"shipping_option_price\",kind=\"box\",data=Datos_PIA_limpio)"
   ]
  },
  {
   "cell_type": "markdown",
   "metadata": {},
   "source": [
    "En esta gráfica también se asegura que el precio por el envío express resulta ser mayor por gran cantidad que uno normal por lo que hay que tenerlo a consideración.\n",
    "\n",
    "Por último analizaremos la influencia de los colores del producto."
   ]
  },
  {
   "cell_type": "code",
   "execution_count": 35,
   "metadata": {},
   "outputs": [
    {
     "data": {
      "image/png": "[encoded data removed]",
      "text/plain": [
       "<Figure size 864x432 with 1 Axes>"
      ]
     },
     "metadata": {
      "needs_background": "light"
     },
     "output_type": "display_data"
    }
   ],
   "source": [
    "columns = ['product_color','units_sold']\n",
    "df = df.groupby('product_color').mean()\n",
    "df = df.sort_values(by='units_sold', ascending=False)\n",
    "df = df.reset_index()\n",
    "colors = ['#f68741', '#a3acb1', '#491d88', '#b48464', \n",
    "          '#151c15','#d5dadd','#43b5a0','#1b96f3',\n",
    "          '#ac0e28','#446b04','#f2b0a5','#fcdf87'\n",
    "]\n",
    "plt.subplots(figsize=(12,6))\n",
    "plt.bar(df[0:8]['product_color'], df[0:8]['units_sold'], color=colors)\n",
    "plt.title('Average sales by product color', fontsize=15)\n",
    "plt.xlabel('Product color', fontsize=12)\n",
    "plt.ylabel('Sales', fontsize=12)\n",
    "plt.show()"
   ]
  },
  {
   "cell_type": "markdown",
   "metadata": {},
   "source": [
    "La gráfica nos muestra que colores tienen en promedio una mayor cantidad de ventas, podemos notar que el color verde claro tiene un mejor recibimiento por parte de los clientes en productos de verano lo que nos indica que es un color que podría ser preferido por los clientes para futuras compras de verano."
   ]
  },
  {
   "cell_type": "markdown",
   "metadata": {},
   "source": [
    "### Conclusión\n",
    "\n",
    "A partir del análisis estadítsico y gráfico podemos determinar algunas de las características principales que podrían influir en el éxito de un producto vendido en esta plataforma. Pudimos comprobar algunas hipótesis importantes, como la influencia de la inclusión de algunas de las insignias o el uso de ciertas etiquetas y colores; rechazar variables no tan significativas, como la falta de un número robusto de datos con insignia de envío rápido; y encontrar consideraciones importantes para la selección del subconjunto a analizar, como el descartar los productos que no han recibido un rating. \n",
    "\n",
    "No proporcionamos ninguna conclusión acerca de los objetivos principales pues estos son de naturaleza predictiva. Sin embargo, el análisis descriptivo de la base de datos nos permite identificar las principales variables que queremos formen parte del modelo de predicción a utilizar. Estas características muy probablemente tendrán la mayor influencia en el éxito de los productos de verano según los criterios seleccionados de ventas y calificación."
   ]
  }
 ],
 "metadata": {
  "kernelspec": {
   "display_name": "Python 3",
   "language": "python",
   "name": "python3"
  },
  "language_info": {
   "codemirror_mode": {
    "name": "ipython",
    "version": 3
   },
   "file_extension": ".py",
   "mimetype": "text/x-python",
   "name": "python",
   "nbconvert_exporter": "python",
   "pygments_lexer": "ipython3",
   "version": "3.8.3"
  }
 },
 "nbformat": 4,
 "nbformat_minor": 4
}
