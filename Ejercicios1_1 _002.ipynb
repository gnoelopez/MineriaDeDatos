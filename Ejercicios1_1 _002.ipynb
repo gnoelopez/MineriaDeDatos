{
 "cells": [
  {
   "cell_type": "markdown",
   "metadata": {},
   "source": [
    "Ejercicio 1"
   ]
  },
  {
   "cell_type": "code",
   "execution_count": 1,
   "metadata": {},
   "outputs": [
    {
     "name": "stdout",
     "output_type": "stream",
     "text": [
      "La estimación de los parámetros para el modelo de regresión son: \n",
      "beta1:  0.1086107819535774\n",
      "beta0:  49.07163369547534\n"
     ]
    },
    {
     "data": {
      "image/png": "[encoded data removed]",
      "text/plain": [
       "<Figure size 432x288 with 1 Axes>"
      ]
     },
     "metadata": {
      "needs_background": "light"
     },
     "output_type": "display_data"
    }
   ],
   "source": [
    "import pandas as pd\n",
    "import matplotlib.pyplot as plt\n",
    "import numpy as np\n",
    "datos = pd.read_csv(r\"Ejercicio_1.1.csv\")\n",
    "datos_y=datos.loc[: , \"Peso\"]\n",
    "datos_x=datos.loc[: , \"Altura\"]\n",
    "plt.scatter(x=datos_x, y=datos_y,marker='o',c='black', s=5)\n",
    "plt.title(\"Gráfico de dispersión de pesos\")\n",
    "plt.xlabel(\"Altura(cm)\")\n",
    "plt.ylabel(\"Peso(kg)\")\n",
    "array_x=np.array(datos_x)\n",
    "array_y=np.array(datos_y)\n",
    "n=len(array_x)\n",
    "sum_x=sum(array_x)\n",
    "sum_y=sum(array_y)\n",
    "sum_xy=sum(array_x*array_y)\n",
    "sum_xx=sum(array_x*array_x)\n",
    "sum_yy=sum(array_y*array_y)\n",
    "s_xy=sum_xy-(1/n)*sum_x*sum_y\n",
    "s_xx=sum_xx-(1/n)*sum_x**2\n",
    "beta_1=s_xy/s_xx\n",
    "beta_0=(1/n)*sum_y-beta_1*(1/n)*sum_x\n",
    "print(\"La estimación de los parámetros para el modelo de regresión son: \")\n",
    "print(\"beta1: \", (beta_1))\n",
    "print(\"beta0: \", (beta_0))"
   ]
  },
  {
   "cell_type": "markdown",
   "metadata": {},
   "source": [
    "Estos modelos nos llevan a que el modelo de regresión para alturas vs peso es:\n",
    "y=49.0716+0.1086x"
   ]
  },
  {
   "cell_type": "code",
   "execution_count": 2,
   "metadata": {
    "scrolled": true
   },
   "outputs": [
    {
     "data": {
      "text/plain": [
       "Text(0, 0.5, 'Peso(kg)')"
      ]
     },
     "execution_count": 2,
     "metadata": {},
     "output_type": "execute_result"
    },
    {
     "data": {
      "image/png": "[encoded data removed]",
      "text/plain": [
       "<Figure size 432x288 with 1 Axes>"
      ]
     },
     "metadata": {
      "needs_background": "light"
     },
     "output_type": "display_data"
    }
   ],
   "source": [
    "plt.scatter(x=datos_x, y=datos_y,marker='o',c='black', s=5)\n",
    "plt.plot(array_x, beta_0+beta_1*array_x, '-', c='red')\n",
    "plt.title(\"Regresión lineal altura vs peso\")\n",
    "plt.xlabel(\"Altura(cm)\")\n",
    "plt.ylabel(\"Peso(kg)\") "
   ]
  },
  {
   "cell_type": "markdown",
   "metadata": {},
   "source": [
    "Ejercicio 2"
   ]
  },
  {
   "cell_type": "code",
   "execution_count": 3,
   "metadata": {},
   "outputs": [
    {
     "name": "stdout",
     "output_type": "stream",
     "text": [
      "Requirement already satisfied: apyori in c:\\users\\3noel\\anaconda\\lib\\site-packages (1.1.2)\n",
      "Note: you may need to restart the kernel to use updated packages.\n"
     ]
    }
   ],
   "source": [
    "pip install apyori"
   ]
  },
  {
   "cell_type": "code",
   "execution_count": 4,
   "metadata": {},
   "outputs": [],
   "source": [
    "import numpy as np\n",
    "import pandas as pd\n",
    "import matplotlib.pyplot as plt\n",
    "from apyori import apriori"
   ]
  },
  {
   "cell_type": "code",
   "execution_count": 5,
   "metadata": {},
   "outputs": [
    {
     "data": {
      "text/html": [
       "<div>\n",
       "<style scoped>\n",
       "    .dataframe tbody tr th:only-of-type {\n",
       "        vertical-align: middle;\n",
       "    }\n",
       "\n",
       "    .dataframe tbody tr th {\n",
       "        vertical-align: top;\n",
       "    }\n",
       "\n",
       "    .dataframe thead th {\n",
       "        text-align: right;\n",
       "    }\n",
       "</style>\n",
       "<table border=\"1\" class=\"dataframe\">\n",
       "  <thead>\n",
       "    <tr style=\"text-align: right;\">\n",
       "      <th></th>\n",
       "      <th>0</th>\n",
       "      <th>1</th>\n",
       "      <th>2</th>\n",
       "      <th>3</th>\n",
       "    </tr>\n",
       "  </thead>\n",
       "  <tbody>\n",
       "    <tr>\n",
       "      <th>0</th>\n",
       "      <td>A</td>\n",
       "      <td>B</td>\n",
       "      <td>C</td>\n",
       "      <td>E</td>\n",
       "    </tr>\n",
       "    <tr>\n",
       "      <th>1</th>\n",
       "      <td>B</td>\n",
       "      <td>E</td>\n",
       "      <td>NaN</td>\n",
       "      <td>NaN</td>\n",
       "    </tr>\n",
       "    <tr>\n",
       "      <th>2</th>\n",
       "      <td>C</td>\n",
       "      <td>D</td>\n",
       "      <td>E</td>\n",
       "      <td>NaN</td>\n",
       "    </tr>\n",
       "    <tr>\n",
       "      <th>3</th>\n",
       "      <td>A</td>\n",
       "      <td>C</td>\n",
       "      <td>D</td>\n",
       "      <td>NaN</td>\n",
       "    </tr>\n",
       "    <tr>\n",
       "      <th>4</th>\n",
       "      <td>A</td>\n",
       "      <td>C</td>\n",
       "      <td>E</td>\n",
       "      <td>NaN</td>\n",
       "    </tr>\n",
       "  </tbody>\n",
       "</table>\n",
       "</div>"
      ],
      "text/plain": [
       "   0  1    2    3\n",
       "0  A  B    C    E\n",
       "1  B  E  NaN  NaN\n",
       "2  C  D    E  NaN\n",
       "3  A  C    D  NaN\n",
       "4  A  C    E  NaN"
      ]
     },
     "execution_count": 5,
     "metadata": {},
     "output_type": "execute_result"
    }
   ],
   "source": [
    "dataset = pd.read_csv(r'Ejercicio_1.2.csv', header = None)\n",
    "dataset.head()"
   ]
  },
  {
   "cell_type": "code",
   "execution_count": 6,
   "metadata": {},
   "outputs": [
    {
     "data": {
      "text/plain": [
       "[['A', 'B', 'C', 'E'],\n",
       " ['B', 'E'],\n",
       " ['C', 'D', 'E'],\n",
       " ['A', 'C', 'D'],\n",
       " ['A', 'C', 'E']]"
      ]
     },
     "execution_count": 6,
     "metadata": {},
     "output_type": "execute_result"
    }
   ],
   "source": [
    "transactions = []\n",
    "for i in range(0, 5):\n",
    "    transactions.append([str(dataset.values[i,j]) for j in range(0, 4) if str(dataset.values[i,j]) != \"nan\"])\n",
    "transactions"
   ]
  },
  {
   "cell_type": "code",
   "execution_count": 7,
   "metadata": {},
   "outputs": [
    {
     "data": {
      "text/plain": [
       "[RelationRecord(items=frozenset({'A'}), support=0.6, ordered_statistics=[OrderedStatistic(items_base=frozenset(), items_add=frozenset({'A'}), confidence=0.6, lift=1.0)]),\n",
       " RelationRecord(items=frozenset({'C'}), support=0.8, ordered_statistics=[OrderedStatistic(items_base=frozenset(), items_add=frozenset({'C'}), confidence=0.8, lift=1.0)]),\n",
       " RelationRecord(items=frozenset({'E'}), support=0.8, ordered_statistics=[OrderedStatistic(items_base=frozenset(), items_add=frozenset({'E'}), confidence=0.8, lift=1.0)]),\n",
       " RelationRecord(items=frozenset({'C', 'A'}), support=0.6, ordered_statistics=[OrderedStatistic(items_base=frozenset(), items_add=frozenset({'C', 'A'}), confidence=0.6, lift=1.0), OrderedStatistic(items_base=frozenset({'A'}), items_add=frozenset({'C'}), confidence=1.0, lift=1.25), OrderedStatistic(items_base=frozenset({'C'}), items_add=frozenset({'A'}), confidence=0.7499999999999999, lift=1.2499999999999998)]),\n",
       " RelationRecord(items=frozenset({'C', 'E'}), support=0.6, ordered_statistics=[OrderedStatistic(items_base=frozenset(), items_add=frozenset({'C', 'E'}), confidence=0.6, lift=1.0), OrderedStatistic(items_base=frozenset({'C'}), items_add=frozenset({'E'}), confidence=0.7499999999999999, lift=0.9374999999999998), OrderedStatistic(items_base=frozenset({'E'}), items_add=frozenset({'C'}), confidence=0.7499999999999999, lift=0.9374999999999998)])]"
      ]
     },
     "execution_count": 7,
     "metadata": {},
     "output_type": "execute_result"
    }
   ],
   "source": [
    "rules = apriori(transactions, min_support = 0.5)\n",
    "results = list(rules)\n",
    "results"
   ]
  },
  {
   "cell_type": "code",
   "execution_count": 8,
   "metadata": {},
   "outputs": [
    {
     "data": {
      "text/html": [
       "<div>\n",
       "<style scoped>\n",
       "    .dataframe tbody tr th:only-of-type {\n",
       "        vertical-align: middle;\n",
       "    }\n",
       "\n",
       "    .dataframe tbody tr th {\n",
       "        vertical-align: top;\n",
       "    }\n",
       "\n",
       "    .dataframe thead th {\n",
       "        text-align: right;\n",
       "    }\n",
       "</style>\n",
       "<table border=\"1\" class=\"dataframe\">\n",
       "  <thead>\n",
       "    <tr style=\"text-align: right;\">\n",
       "      <th></th>\n",
       "      <th>Antecedente</th>\n",
       "      <th>Consecuente</th>\n",
       "      <th>Soporte</th>\n",
       "      <th>Confianza</th>\n",
       "      <th>Lift</th>\n",
       "    </tr>\n",
       "  </thead>\n",
       "  <tbody>\n",
       "    <tr>\n",
       "      <th>0</th>\n",
       "      <td>()</td>\n",
       "      <td>(A,)</td>\n",
       "      <td>0.6</td>\n",
       "      <td>0.60</td>\n",
       "      <td>1.0000</td>\n",
       "    </tr>\n",
       "    <tr>\n",
       "      <th>1</th>\n",
       "      <td>()</td>\n",
       "      <td>(C,)</td>\n",
       "      <td>0.8</td>\n",
       "      <td>0.80</td>\n",
       "      <td>1.0000</td>\n",
       "    </tr>\n",
       "    <tr>\n",
       "      <th>2</th>\n",
       "      <td>()</td>\n",
       "      <td>(E,)</td>\n",
       "      <td>0.8</td>\n",
       "      <td>0.80</td>\n",
       "      <td>1.0000</td>\n",
       "    </tr>\n",
       "    <tr>\n",
       "      <th>3</th>\n",
       "      <td>()</td>\n",
       "      <td>(C, A)</td>\n",
       "      <td>0.6</td>\n",
       "      <td>0.60</td>\n",
       "      <td>1.0000</td>\n",
       "    </tr>\n",
       "    <tr>\n",
       "      <th>4</th>\n",
       "      <td>(A,)</td>\n",
       "      <td>(C,)</td>\n",
       "      <td>0.6</td>\n",
       "      <td>1.00</td>\n",
       "      <td>1.2500</td>\n",
       "    </tr>\n",
       "    <tr>\n",
       "      <th>5</th>\n",
       "      <td>(C,)</td>\n",
       "      <td>(A,)</td>\n",
       "      <td>0.6</td>\n",
       "      <td>0.75</td>\n",
       "      <td>1.2500</td>\n",
       "    </tr>\n",
       "    <tr>\n",
       "      <th>6</th>\n",
       "      <td>()</td>\n",
       "      <td>(C, E)</td>\n",
       "      <td>0.6</td>\n",
       "      <td>0.60</td>\n",
       "      <td>1.0000</td>\n",
       "    </tr>\n",
       "    <tr>\n",
       "      <th>7</th>\n",
       "      <td>(C,)</td>\n",
       "      <td>(E,)</td>\n",
       "      <td>0.6</td>\n",
       "      <td>0.75</td>\n",
       "      <td>0.9375</td>\n",
       "    </tr>\n",
       "    <tr>\n",
       "      <th>8</th>\n",
       "      <td>(E,)</td>\n",
       "      <td>(C,)</td>\n",
       "      <td>0.6</td>\n",
       "      <td>0.75</td>\n",
       "      <td>0.9375</td>\n",
       "    </tr>\n",
       "  </tbody>\n",
       "</table>\n",
       "</div>"
      ],
      "text/plain": [
       "  Antecedente Consecuente  Soporte  Confianza    Lift\n",
       "0          ()        (A,)      0.6       0.60  1.0000\n",
       "1          ()        (C,)      0.8       0.80  1.0000\n",
       "2          ()        (E,)      0.8       0.80  1.0000\n",
       "3          ()      (C, A)      0.6       0.60  1.0000\n",
       "4        (A,)        (C,)      0.6       1.00  1.2500\n",
       "5        (C,)        (A,)      0.6       0.75  1.2500\n",
       "6          ()      (C, E)      0.6       0.60  1.0000\n",
       "7        (C,)        (E,)      0.6       0.75  0.9375\n",
       "8        (E,)        (C,)      0.6       0.75  0.9375"
      ]
     },
     "execution_count": 8,
     "metadata": {},
     "output_type": "execute_result"
    }
   ],
   "source": [
    "antecedents = [tuple(item[0]) for result in results for item in result[2]]\n",
    "consecuents = [tuple(item[1]) for result in results for item in result[2]]\n",
    "supports = [result[1] for result in results for item in result[2]]\n",
    "confidences = [item[2] for result in results for item in result[2]]\n",
    "lifts = [item[3] for result in results for item in result[2]]\n",
    "table = list(zip(antecedents, consecuents, supports, confidences, lifts))\n",
    "pd.DataFrame(table, columns = ['Antecedente', 'Consecuente', 'Soporte', 'Confianza', 'Lift'])"
   ]
  },
  {
   "cell_type": "markdown",
   "metadata": {},
   "source": [
    "El nivel de soporte más alto con umbral de 0.5 es K = 2.\n",
    "Tenemos las siguientes reglas de asociación:\n",
    "A -> C , C -> A , C -> E , E -> C"
   ]
  }
 ],
 "metadata": {
  "kernelspec": {
   "display_name": "Python 3",
   "language": "python",
   "name": "python3"
  },
  "language_info": {
   "codemirror_mode": {
    "name": "ipython",
    "version": 3
   },
   "file_extension": ".py",
   "mimetype": "text/x-python",
   "name": "python",
   "nbconvert_exporter": "python",
   "pygments_lexer": "ipython3",
   "version": "3.8.3"
  }
 },
 "nbformat": 4,
 "nbformat_minor": 4
}
